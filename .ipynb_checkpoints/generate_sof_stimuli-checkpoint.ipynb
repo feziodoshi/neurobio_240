{
 "cells": [
  {
   "cell_type": "code",
   "execution_count": 47,
   "id": "3afe884d-eaca-408b-a57e-b1660e51dd22",
   "metadata": {},
   "outputs": [],
   "source": [
    "import math\n",
    "from PIL import Image, ImageDraw\n",
    "import numpy as np\n",
    "from IPython.html.widgets import interact, interactive, fixed\n",
    "from IPython.display import display "
   ]
  },
  {
   "cell_type": "markdown",
   "id": "d9e6bd3f-61b1-4afd-96e4-794d8c19c392",
   "metadata": {},
   "source": [
    "# Helper functions -I"
   ]
  },
  {
   "cell_type": "code",
   "execution_count": 48,
   "id": "37d7cc4c-ead0-4fd8-a6fe-68ffb4de4155",
   "metadata": {},
   "outputs": [],
   "source": [
    "#finds the straight-line distance between two points\n",
    "def distance(ax, ay, bx, by):\n",
    "    return math.sqrt((by - ay)**2 + (bx - ax)**2)\n",
    "\n",
    "#rotates point `A` about point `B` by `angle` radians clockwise.\n",
    "def rotated_about(ax, ay, bx, by, angle):\n",
    "    radius = distance(ax,ay,bx,by)\n",
    "    angle += math.atan2(ay-by, ax-bx)\n",
    "    return (\n",
    "        round(bx + radius * math.cos(angle)),\n",
    "        round(by + radius * math.sin(angle))\n",
    "    )"
   ]
  },
  {
   "cell_type": "code",
   "execution_count": 49,
   "id": "828821df-410d-4648-a3e2-e356775cac5c",
   "metadata": {},
   "outputs": [],
   "source": [
    "# image = Image.new('L', (100, 100), 127)\n",
    "# draw = ImageDraw.Draw(image)\n",
    "\n",
    "# square_center = (50,50)\n",
    "# square_length = 40\n",
    "\n",
    "# square_vertices = (\n",
    "#     (square_center[0] + square_length / 2, square_center[1] + square_length / 2),\n",
    "#     (square_center[0] + square_length / 2, square_center[1] - square_length / 2),\n",
    "#     (square_center[0] - square_length / 2, square_center[1] - square_length / 2),\n",
    "#     (square_center[0] - square_length / 2, square_center[1] + square_length / 2)\n",
    "# )\n",
    "\n",
    "# square_vertices = [rotated_about(x,y, square_center[0], square_center[1], math.radians(45)) for x,y in square_vertices]\n",
    "\n",
    "# draw.polygon(square_vertices, fill=255)\n",
    "\n",
    "# image.save(\"output.png\")"
   ]
  },
  {
   "cell_type": "code",
   "execution_count": 50,
   "id": "602bab21-a784-4afc-9c9a-f07c4b1ee4e0",
   "metadata": {},
   "outputs": [],
   "source": [
    "# image = Image.new('L', (100, 100), 127)\n",
    "# draw = ImageDraw.Draw(image)\n",
    "\n",
    "# square_center = (50,50)\n",
    "# square_length = 40\n",
    "\n",
    "# square_vertices = (\n",
    "#     (square_center[0] + square_length / 2, square_center[1] + square_length / 2),\n",
    "#     (square_center[0] + square_length / 2, square_center[1] - square_length / 2),\n",
    "#     (square_center[0] - square_length / 2, square_center[1] - square_length / 2),\n",
    "#     (square_center[0] - square_length / 2, square_center[1] + square_length / 2)\n",
    "# )\n",
    "\n",
    "# square_vertices = [rotated_about(x,y, square_center[0], square_center[1], math.radians(0)) for x,y in square_vertices]\n",
    "\n",
    "# draw.polygon(square_vertices, outline=255,fill=127)\n",
    "\n",
    "# image"
   ]
  },
  {
   "cell_type": "markdown",
   "id": "0a1c45f8-04f8-4e48-b266-fd76232457b0",
   "metadata": {},
   "source": [
    "# Part 1: Generate SOF stimuli"
   ]
  },
  {
   "cell_type": "code",
   "execution_count": 83,
   "id": "b2bc1873-fe09-4f2a-bdc8-fbc30ac7fa31",
   "metadata": {},
   "outputs": [
    {
     "data": {
      "image/png": "[encoded data removed]",
      "text/plain": [
       "<PIL.Image.Image image mode=L size=100x100>"
      ]
     },
     "metadata": {},
     "output_type": "display_data"
    },
    {
     "data": {
      "image/png": "[encoded data removed]",
      "text/plain": [
       "<PIL.Image.Image image mode=L size=100x100>"
      ]
     },
     "metadata": {},
     "output_type": "display_data"
    },
    {
     "data": {
      "image/png": "[encoded data removed]",
      "text/plain": [
       "<PIL.Image.Image image mode=RGB size=100x100>"
      ]
     },
     "metadata": {},
     "output_type": "display_data"
    }
   ],
   "source": [
    "image_size=(100,100)\n",
    "readable_orientation=45\n",
    "edge_length=20\n",
    "polygon_sides=6\n",
    "side_fig='right'\n",
    "\n",
    "\n",
    "\n",
    "\n",
    "\n",
    "orientation=360-readable_orientation\n",
    "image_center=(image_size[0]//2,image_size[1]//2)\n",
    "\n",
    "if(side_fig=='left'):\n",
    "    polygon_angle=(1)*(180-360//polygon_sides)\n",
    "elif(side_fig=='right'):\n",
    "    polygon_angle=(-1)*(180-360//polygon_sides)\n",
    "    \n",
    "    \n",
    "    \n",
    "    \n",
    "    \n",
    "    \n",
    "\n",
    "edges=[]\n",
    "\n",
    "\n",
    "\n",
    "image = Image.new('L', (100, 100), 127)\n",
    "draw = ImageDraw.Draw(image)\n",
    "\n",
    "edges.append((round(image_center[0] + edge_length//2 * math.cos(math.radians(180-orientation))), round(image_center[1] - edge_length//2 * math.sin(math.radians(180-orientation)))))\n",
    "edges.append((round(image_center[0] + edge_length//2 * math.cos(math.radians(orientation))), round(image_center[1] + edge_length//2 * math.sin(math.radians(orientation)))))\n",
    "\n",
    "for point in range(polygon_sides-2):\n",
    "    fulcrum=edges[-1]\n",
    "    rotating_point=edges[-2]\n",
    "    new_point=rotated_about(rotating_point[0],rotating_point[1],fulcrum[0],fulcrum[1],math.radians(polygon_angle))\n",
    "    edges.append(new_point)\n",
    "\n",
    "\n",
    "draw.polygon(edges,fill=255)\n",
    "display(image)\n",
    "\n",
    "\n",
    "\n",
    "\n",
    "just_oriented_edge = Image.new('L', (100, 100), 127)\n",
    "draw = ImageDraw.Draw(just_oriented_edge)\n",
    "draw.polygon(edges[:2],fill=255)\n",
    "display(just_oriented_edge)\n",
    "\n",
    "\n",
    "\n",
    "surface_oriented_edge = Image.new('RGB', (100, 100), (127,127,127))\n",
    "draw = ImageDraw.Draw(surface_oriented_edge)\n",
    "draw.polygon(edges,outline=(255,255,255),fill=(127,127,127))\n",
    "draw.polygon(edges[:2],fill=(255,0,0))\n",
    "display(surface_oriented_edge)\n",
    "\n",
    "\n"
   ]
  },
  {
   "cell_type": "markdown",
   "id": "99a6e5bc-6d3a-42e9-b70c-2398c31a3594",
   "metadata": {},
   "source": [
    "# Interactive"
   ]
  },
  {
   "cell_type": "code",
   "execution_count": 84,
   "id": "728eb5a3-12e4-4a5e-9789-7ebf1c9bd232",
   "metadata": {},
   "outputs": [
    {
     "data": {
      "application/vnd.jupyter.widget-view+json": {
       "model_id": "8d08a52015a042679190157155fb07b1",
       "version_major": 2,
       "version_minor": 0
      },
      "text/plain": [
       "interactive(children=(IntSlider(value=184, description='image_size', max=300, min=70, step=2), IntSlider(value…"
      ]
     },
     "metadata": {},
     "output_type": "display_data"
    }
   ],
   "source": [
    "@interact(image_size=(70,300,2),readable_orientation=(0,90),edge_length=(10,80),polygon_sides=(4,8,1),side_fig=['left','right'])\n",
    "def vis_figure(image_size,readable_orientation,edge_length,polygon_sides,side_fig):\n",
    "    \n",
    "    orientation=360-readable_orientation\n",
    "    image_center=(image_size//2,image_size//2)\n",
    "\n",
    "    if(side_fig=='left'):\n",
    "        polygon_angle=(1)*(180-360//polygon_sides)\n",
    "    elif(side_fig=='right'):\n",
    "        polygon_angle=(-1)*(180-360//polygon_sides)\n",
    "        \n",
    "        \n",
    "    edges=[]\n",
    "    \n",
    "    image = Image.new('L', (image_size, image_size), 200)\n",
    "    draw = ImageDraw.Draw(image)\n",
    "    \n",
    "    \n",
    "    \n",
    "    edges.append((round(image_center[0] + edge_length//2 * math.cos(math.radians(180-orientation))), round(image_center[1] - edge_length//2 * math.sin(math.radians(180-orientation)))))\n",
    "    edges.append((round(image_center[0] + edge_length//2 * math.cos(math.radians(orientation))), round(image_center[1] + edge_length//2 * math.sin(math.radians(orientation)))))\n",
    "\n",
    "    for point in range(polygon_sides-2):\n",
    "        fulcrum=edges[-1]\n",
    "        rotating_point=edges[-2]\n",
    "        new_point=rotated_about(rotating_point[0],rotating_point[1],fulcrum[0],fulcrum[1],math.radians(polygon_angle))\n",
    "        edges.append(new_point)\n",
    "\n",
    "    draw.polygon(edges,fill=127)\n",
    "    display(image)\n",
    "    \n",
    "    \n",
    "    \n",
    "    just_oriented_edge = Image.new('L', (image_size, image_size), 127)\n",
    "    draw = ImageDraw.Draw(just_oriented_edge)\n",
    "    draw.polygon(edges[:2],fill=200)\n",
    "    display(just_oriented_edge)\n",
    "    \n",
    "    \n",
    "    surface_oriented_edge = Image.new('RGB', (image_size, image_size), (127,127,127))\n",
    "    draw = ImageDraw.Draw(surface_oriented_edge)\n",
    "    draw.polygon(edges,outline=(255,255,255),fill=(127,127,127))\n",
    "    draw.polygon(edges[:2],fill=(255,0,0))\n",
    "    display(surface_oriented_edge)\n",
    "    \n",
    "    \n",
    "    "
   ]
  },
  {
   "cell_type": "markdown",
   "id": "9c8fcf30-a5dd-492f-8276-17f1d3a4b319",
   "metadata": {},
   "source": [
    "# Interactive - get both constrast versions"
   ]
  },
  {
   "cell_type": "code",
   "execution_count": 133,
   "id": "9b67cc2c-998a-4d89-a944-19f87864dfa6",
   "metadata": {},
   "outputs": [
    {
     "data": {
      "application/vnd.jupyter.widget-view+json": {
       "model_id": "3124cc8e971b4a8d96b40d6d8dda8ce9",
       "version_major": 2,
       "version_minor": 0
      },
      "text/plain": [
       "interactive(children=(IntSlider(value=184, description='image_size', max=300, min=70, step=2), IntSlider(value…"
      ]
     },
     "metadata": {},
     "output_type": "display_data"
    }
   ],
   "source": [
    "@interact(image_size=(70,300,2),readable_orientation=(0,90),edge_length=(10,30),polygon_sides=(4,8,1))\n",
    "def vis_figure(image_size,readable_orientation,edge_length,polygon_sides):\n",
    "    ############################################################################################################\n",
    "    ## Fig 1 - left, light bg, dark fg\n",
    "    orientation=360-readable_orientation\n",
    "    image_center=(image_size//2,image_size//2)\n",
    "    side_fig='left'\n",
    "    \n",
    "    if(side_fig=='left'):\n",
    "        polygon_angle=(1)*(180-360//polygon_sides)\n",
    "    elif(side_fig=='right'):\n",
    "        polygon_angle=(-1)*(180-360//polygon_sides)\n",
    "        \n",
    "        \n",
    "    edges=[]\n",
    "    \n",
    "    image = Image.new('L', (image_size, image_size), 200)\n",
    "    draw = ImageDraw.Draw(image)\n",
    "    \n",
    "    \n",
    "    \n",
    "    edges.append((round(image_center[0] + edge_length//2 * math.cos(math.radians(180-orientation))), round(image_center[1] - edge_length//2 * math.sin(math.radians(180-orientation)))))\n",
    "    edges.append((round(image_center[0] + edge_length//2 * math.cos(math.radians(orientation))), round(image_center[1] + edge_length//2 * math.sin(math.radians(orientation)))))\n",
    "\n",
    "    for point in range(polygon_sides-2):\n",
    "        fulcrum=edges[-1]\n",
    "        rotating_point=edges[-2]\n",
    "        new_point=rotated_about(rotating_point[0],rotating_point[1],fulcrum[0],fulcrum[1],math.radians(polygon_angle))\n",
    "        edges.append(new_point)\n",
    "\n",
    "    draw.polygon(edges,fill=127)\n",
    "    display(image)\n",
    "    ############################################################################################################\n",
    "    \n",
    "    \n",
    "    ############################################################################################################\n",
    "    ## Fig 2 - right, light bg, dark fg\n",
    "    orientation=360-readable_orientation\n",
    "    image_center=(image_size//2,image_size//2)\n",
    "    side_fig='right'\n",
    "    \n",
    "    if(side_fig=='left'):\n",
    "        polygon_angle=(1)*(180-360//polygon_sides)\n",
    "    elif(side_fig=='right'):\n",
    "        polygon_angle=(-1)*(180-360//polygon_sides)\n",
    "        \n",
    "        \n",
    "    edges=[]\n",
    "    \n",
    "    image = Image.new('L', (image_size, image_size), 200)\n",
    "    draw = ImageDraw.Draw(image)\n",
    "    \n",
    "    \n",
    "    \n",
    "    edges.append((round(image_center[0] + edge_length//2 * math.cos(math.radians(180-orientation))), round(image_center[1] - edge_length//2 * math.sin(math.radians(180-orientation)))))\n",
    "    edges.append((round(image_center[0] + edge_length//2 * math.cos(math.radians(orientation))), round(image_center[1] + edge_length//2 * math.sin(math.radians(orientation)))))\n",
    "\n",
    "    for point in range(polygon_sides-2):\n",
    "        fulcrum=edges[-1]\n",
    "        rotating_point=edges[-2]\n",
    "        new_point=rotated_about(rotating_point[0],rotating_point[1],fulcrum[0],fulcrum[1],math.radians(polygon_angle))\n",
    "        edges.append(new_point)\n",
    "\n",
    "    draw.polygon(edges,fill=127)\n",
    "    display(image)\n",
    "    ############################################################################################################\n",
    "    \n",
    "    \n",
    "    \n",
    "    ############################################################################################################\n",
    "    ## Fig 3 - left, dark bg, light fg\n",
    "    orientation=360-readable_orientation\n",
    "    image_center=(image_size//2,image_size//2)\n",
    "    side_fig='left'\n",
    "    \n",
    "    if(side_fig=='left'):\n",
    "        polygon_angle=(1)*(180-360//polygon_sides)\n",
    "    elif(side_fig=='right'):\n",
    "        polygon_angle=(-1)*(180-360//polygon_sides)\n",
    "        \n",
    "        \n",
    "    edges=[]\n",
    "    \n",
    "    image = Image.new('L', (image_size, image_size), 127)\n",
    "    draw = ImageDraw.Draw(image)\n",
    "    \n",
    "    \n",
    "    \n",
    "    edges.append((round(image_center[0] + edge_length//2 * math.cos(math.radians(180-orientation))), round(image_center[1] - edge_length//2 * math.sin(math.radians(180-orientation)))))\n",
    "    edges.append((round(image_center[0] + edge_length//2 * math.cos(math.radians(orientation))), round(image_center[1] + edge_length//2 * math.sin(math.radians(orientation)))))\n",
    "\n",
    "    for point in range(polygon_sides-2):\n",
    "        fulcrum=edges[-1]\n",
    "        rotating_point=edges[-2]\n",
    "        new_point=rotated_about(rotating_point[0],rotating_point[1],fulcrum[0],fulcrum[1],math.radians(polygon_angle))\n",
    "        edges.append(new_point)\n",
    "\n",
    "    draw.polygon(edges,fill=200)\n",
    "    display(image)\n",
    "    ############################################################################################################\n",
    "    \n",
    "    \n",
    "    \n",
    "    ############################################################################################################\n",
    "    ## Fig 4 - right, dark bg, light fg\n",
    "    orientation=360-readable_orientation\n",
    "    image_center=(image_size//2,image_size//2)\n",
    "    side_fig='right'\n",
    "    \n",
    "    if(side_fig=='left'):\n",
    "        polygon_angle=(1)*(180-360//polygon_sides)\n",
    "    elif(side_fig=='right'):\n",
    "        polygon_angle=(-1)*(180-360//polygon_sides)\n",
    "        \n",
    "        \n",
    "    edges=[]\n",
    "    \n",
    "    image = Image.new('L', (image_size, image_size), 127)\n",
    "    draw = ImageDraw.Draw(image)\n",
    "    \n",
    "    \n",
    "    \n",
    "    edges.append((round(image_center[0] + edge_length//2 * math.cos(math.radians(180-orientation))), round(image_center[1] - edge_length//2 * math.sin(math.radians(180-orientation)))))\n",
    "    edges.append((round(image_center[0] + edge_length//2 * math.cos(math.radians(orientation))), round(image_center[1] + edge_length//2 * math.sin(math.radians(orientation)))))\n",
    "\n",
    "    for point in range(polygon_sides-2):\n",
    "        fulcrum=edges[-1]\n",
    "        rotating_point=edges[-2]\n",
    "        new_point=rotated_about(rotating_point[0],rotating_point[1],fulcrum[0],fulcrum[1],math.radians(polygon_angle))\n",
    "        edges.append(new_point)\n",
    "\n",
    "    draw.polygon(edges,fill=200)\n",
    "    display(image)\n",
    "    ############################################################################################################\n",
    "    \n",
    "    ## Fig 5 - just oriented edge, light bg\n",
    "    just_oriented_edge = Image.new('RGB', (image_size, image_size), (200,200,200))\n",
    "    draw = ImageDraw.Draw(just_oriented_edge)\n",
    "    draw.polygon(edges[:2],fill=(255,0,0))\n",
    "    display(just_oriented_edge)\n",
    "    \n",
    "    ## Fig 6 - just oriented edge, dark bg\n",
    "    just_oriented_edge = Image.new('RGB', (image_size, image_size), (127,127,127))\n",
    "    draw = ImageDraw.Draw(just_oriented_edge)\n",
    "    draw.polygon(edges[:2],fill=(255,0,0))\n",
    "    display(just_oriented_edge)\n",
    "    \n",
    "    \n",
    "    \n",
    "    \n",
    "    "
   ]
  },
  {
   "cell_type": "code",
   "execution_count": 134,
   "id": "bf81805f-afb4-42d7-86a9-ccde7eced39a",
   "metadata": {},
   "outputs": [],
   "source": [
    "def get_sof_complete(image_size=32,readable_orientation=45,edge_length=14,polygon_sides=4,side_fig='left'):\n",
    "    \n",
    "    orientation=360-readable_orientation\n",
    "    image_center=(image_size//2,image_size//2)\n",
    "\n",
    "    if(side_fig=='left'):\n",
    "        polygon_angle=(1)*(180-360//polygon_sides)\n",
    "    elif(side_fig=='right'):\n",
    "        polygon_angle=(-1)*(180-360//polygon_sides)\n",
    "        \n",
    "        \n",
    "    edges=[]\n",
    "    \n",
    "    image = Image.new('L', (image_size, image_size), 127)\n",
    "    draw = ImageDraw.Draw(image)\n",
    "    \n",
    "    \n",
    "    \n",
    "    edges.append((round(image_center[0] + edge_length//2 * math.cos(math.radians(180-orientation))), round(image_center[1] - edge_length//2 * math.sin(math.radians(180-orientation)))))\n",
    "    edges.append((round(image_center[0] + edge_length//2 * math.cos(math.radians(orientation))), round(image_center[1] + edge_length//2 * math.sin(math.radians(orientation)))))\n",
    "\n",
    "    for point in range(polygon_sides-2):\n",
    "        fulcrum=edges[-1]\n",
    "        rotating_point=edges[-2]\n",
    "        new_point=rotated_about(rotating_point[0],rotating_point[1],fulcrum[0],fulcrum[1],math.radians(polygon_angle))\n",
    "        edges.append(new_point)\n",
    "\n",
    "    draw.polygon(edges,fill=200)\n",
    "    \n",
    "    \n",
    "    \n",
    "    \n",
    "    just_oriented_edge = Image.new('L', (image_size, image_size), 127)\n",
    "    draw = ImageDraw.Draw(just_oriented_edge)\n",
    "    draw.polygon(edges[:2],fill=200)\n",
    "\n",
    "    \n",
    "    \n",
    "    surface_oriented_edge = Image.new('RGB', (image_size, image_size), (127,127,127))\n",
    "    draw = ImageDraw.Draw(surface_oriented_edge)\n",
    "    draw.polygon(edges,outline=(255,255,255),fill=(127,127,127))\n",
    "    draw.polygon(edges[:2],fill=(255,0,0))\n",
    "\n",
    "    \n",
    "    return image,just_oriented_edge,surface_oriented_edge\n",
    "    \n",
    "    \n",
    "    "
   ]
  },
  {
   "cell_type": "code",
   "execution_count": 135,
   "id": "1eabe8db-b4f0-4492-9511-fdb67a286bd2",
   "metadata": {},
   "outputs": [],
   "source": [
    "sof_image,just_oriented_edge,surface_oriented_edge=get_sof_complete()"
   ]
  },
  {
   "cell_type": "code",
   "execution_count": 136,
   "id": "42683ad8-1765-4e11-b533-1d67c51a4a65",
   "metadata": {},
   "outputs": [
    {
     "data": {
      "image/png": "[encoded data removed]",
      "text/plain": [
       "<PIL.Image.Image image mode=L size=32x32>"
      ]
     },
     "execution_count": 136,
     "metadata": {},
     "output_type": "execute_result"
    }
   ],
   "source": [
    "sof_image"
   ]
  },
  {
   "cell_type": "code",
   "execution_count": 137,
   "id": "ed303509-d588-463e-b2fb-bd1bace11b94",
   "metadata": {},
   "outputs": [
    {
     "data": {
      "image/png": "[encoded data removed]",
      "text/plain": [
       "<PIL.Image.Image image mode=L size=32x32>"
      ]
     },
     "execution_count": 137,
     "metadata": {},
     "output_type": "execute_result"
    }
   ],
   "source": [
    "just_oriented_edge"
   ]
  },
  {
   "cell_type": "markdown",
   "id": "578198a4-4686-4505-b1a9-28d3e83cdb70",
   "metadata": {},
   "source": [
    "# Part 2: Embedding the sof stimuli in the image that we will present to models"
   ]
  },
  {
   "cell_type": "code",
   "execution_count": null,
   "id": "1f17bbc1-8530-4b12-b67d-b7238a17af09",
   "metadata": {},
   "outputs": [],
   "source": []
  },
  {
   "cell_type": "code",
   "execution_count": null,
   "id": "4604d0ca-a736-4f33-b239-49e7bf13b3b7",
   "metadata": {},
   "outputs": [],
   "source": []
  },
  {
   "cell_type": "markdown",
   "id": "0f4ffe59-b339-4197-add1-b44f6c7a95d5",
   "metadata": {},
   "source": [
    "# Embedding-debug For embedding these images - we first need binary masked images and then normalize them"
   ]
  },
  {
   "cell_type": "code",
   "execution_count": 114,
   "id": "7f77003f-57df-4386-b7ea-49c7585f424d",
   "metadata": {},
   "outputs": [],
   "source": [
    "def normalize_sof_image(sof_image):\n",
    "    sof_image=np.array(sof_image)\n",
    "    sof_image = np.clip(sof_image, -1,1)\n",
    "    sof_image = Image.fromarray((sof_image*127.5+127.5).astype(np.uint8))\n",
    "    \n",
    "    return sof_image"
   ]
  },
  {
   "cell_type": "code",
   "execution_count": null,
   "id": "d0f0288f-c56d-4390-80b1-2d3bfcc8b937",
   "metadata": {},
   "outputs": [],
   "source": []
  },
  {
   "cell_type": "code",
   "execution_count": 122,
   "id": "65e7c082-b235-4bdb-a7a7-e661cc429d83",
   "metadata": {},
   "outputs": [],
   "source": [
    "def get_sof_only(image_size=32,readable_orientation=45,edge_length=14,polygon_sides=4,side_fig='left'):\n",
    "    \n",
    "    orientation=360-readable_orientation\n",
    "    image_center=(image_size//2,image_size//2)\n",
    "\n",
    "    if(side_fig=='left'):\n",
    "        polygon_angle=(1)*(180-360//polygon_sides)\n",
    "    elif(side_fig=='right'):\n",
    "        polygon_angle=(-1)*(180-360//polygon_sides)\n",
    "        \n",
    "        \n",
    "    edges=[]\n",
    "    \n",
    "    image = Image.new('L', (image_size, image_size), 200)\n",
    "    draw = ImageDraw.Draw(image)\n",
    "    \n",
    "    \n",
    "    \n",
    "    edges.append((round(image_center[0] + edge_length//2 * math.cos(math.radians(180-orientation))), round(image_center[1] - edge_length//2 * math.sin(math.radians(180-orientation)))))\n",
    "    edges.append((round(image_center[0] + edge_length//2 * math.cos(math.radians(orientation))), round(image_center[1] + edge_length//2 * math.sin(math.radians(orientation)))))\n",
    "\n",
    "    for point in range(polygon_sides-2):\n",
    "        fulcrum=edges[-1]\n",
    "        rotating_point=edges[-2]\n",
    "        new_point=rotated_about(rotating_point[0],rotating_point[1],fulcrum[0],fulcrum[1],math.radians(polygon_angle))\n",
    "        edges.append(new_point)\n",
    "\n",
    "    draw.polygon(edges,fill=127)\n",
    " \n",
    "\n",
    "    \n",
    "    return image\n",
    "    \n",
    "    \n",
    "    "
   ]
  },
  {
   "cell_type": "code",
   "execution_count": 123,
   "id": "95f05b93-d17b-433c-bb7b-01a2ab648e13",
   "metadata": {},
   "outputs": [
    {
     "data": {
      "image/png": "[encoded data removed]",
      "text/plain": [
       "<PIL.Image.Image image mode=L size=32x32>"
      ]
     },
     "execution_count": 123,
     "metadata": {},
     "output_type": "execute_result"
    }
   ],
   "source": [
    "sof_image=get_sof_only(readable_orientation=23)\n",
    "sof_image"
   ]
  },
  {
   "cell_type": "code",
   "execution_count": 131,
   "id": "9736303f-26d4-42a7-ae02-0c07b969c040",
   "metadata": {},
   "outputs": [
    {
     "data": {
      "text/plain": [
       "array([[0, 0, 0, ..., 0, 0, 0],\n",
       "       [0, 0, 0, ..., 0, 0, 0],\n",
       "       [0, 0, 0, ..., 0, 0, 0],\n",
       "       ...,\n",
       "       [0, 0, 0, ..., 0, 0, 0],\n",
       "       [0, 0, 0, ..., 0, 0, 0],\n",
       "       [0, 0, 0, ..., 0, 0, 0]], dtype=uint8)"
      ]
     },
     "execution_count": 131,
     "metadata": {},
     "output_type": "execute_result"
    }
   ],
   "source": [
    "bg_image=np.zeros((512,512)).astype(np.uint8)\n",
    "bg_image"
   ]
  },
  {
   "cell_type": "code",
   "execution_count": 132,
   "id": "2afa0102-c5c3-4dc9-b368-e94991624f57",
   "metadata": {},
   "outputs": [
    {
     "data": {
      "image/png": "[encoded data removed]",
      "text/plain": [
       "<PIL.Image.Image image mode=L size=512x512>"
      ]
     },
     "metadata": {},
     "output_type": "display_data"
    }
   ],
   "source": [
    "display(Image.fromarray(bg_image))"
   ]
  },
  {
   "cell_type": "code",
   "execution_count": 173,
   "id": "dcacb611-5cc5-4c2f-8d8b-3135fbc59759",
   "metadata": {},
   "outputs": [],
   "source": [
    "bg_image=np.zeros((512,512))\n"
   ]
  },
  {
   "cell_type": "code",
   "execution_count": 174,
   "id": "da111945-2de5-4bd3-b9ef-0bd77098a930",
   "metadata": {},
   "outputs": [],
   "source": [
    "top=10\n",
    "bottom=56\n",
    "left=12\n",
    "right=50\n",
    "\n",
    "bg_image[top,left:right]=255.0\n",
    "bg_image[bottom,left:right]=255.0\n",
    "\n",
    "bg_image[top:bottom,left]=255.0\n",
    "bg_image[top:bottom,right]=255.0"
   ]
  },
  {
   "cell_type": "code",
   "execution_count": 175,
   "id": "3bc85ce9-d8a6-4cea-89be-d51e65f710f6",
   "metadata": {},
   "outputs": [],
   "source": [
    "bg_image=bg_image.astype(np.uint8)"
   ]
  },
  {
   "cell_type": "code",
   "execution_count": 176,
   "id": "17e149ac-ea9a-4769-8abf-0d25fcd4a56f",
   "metadata": {},
   "outputs": [
    {
     "data": {
      "image/png": "[encoded data removed]",
      "text/plain": [
       "<PIL.Image.Image image mode=L size=512x512>"
      ]
     },
     "metadata": {},
     "output_type": "display_data"
    }
   ],
   "source": [
    "display(Image.fromarray(bg_image))"
   ]
  },
  {
   "cell_type": "code",
   "execution_count": null,
   "id": "1a57af1c-999c-4ce6-96db-aacdf10bec9a",
   "metadata": {},
   "outputs": [],
   "source": []
  },
  {
   "cell_type": "code",
   "execution_count": null,
   "id": "49aee705-5fe4-4789-91df-c5f810c203cf",
   "metadata": {},
   "outputs": [],
   "source": []
  },
  {
   "cell_type": "markdown",
   "id": "a0af46c9-bfa3-456f-ae04-2ca7b00d3ae8",
   "metadata": {},
   "source": [
    "# Embedding continuation"
   ]
  },
  {
   "cell_type": "code",
   "execution_count": 177,
   "id": "8fd07651-b1dc-4609-9fe5-a351f1f4eb6a",
   "metadata": {},
   "outputs": [],
   "source": [
    "def imscale(im, minVal=None, maxVal=None):\n",
    "    # first resclae the image between 0 and 1 -> It is important to set the bounds as -1 and 1 because the data itself will be restricted between -1 and 1\n",
    "    minVal = im.min() if minVal is None else minVal\n",
    "    maxVal = im.max() if maxVal is None else maxVal\n",
    "    tempIm = (im - minVal)/(maxVal-minVal);\n",
    "    \n",
    "    return tempIm\n",
    "\n",
    "def get_image(imHeight=512, imWidth=512):\n",
    "    '''\n",
    "    \n",
    "    '''\n",
    "    img = np.zeros((imHeight,imWidth,3))\n",
    "    \n",
    "    img = imscale(img, -1, 1)\n",
    "    img = np.array(img*255).astype(np.uint8)\n",
    "   \n",
    "    \n",
    "    return Image.fromarray(img)\n",
    "\n",
    "def embed_norm(img, background, startX, startY):\n",
    "    \n",
    "    H,W = background.shape\n",
    "    maxH,maxW = H, W\n",
    "    h,w = img.shape\n",
    "    endX = startX + w\n",
    "    endY = startY + h\n",
    "    \n",
    "    bg_startX = max(0,startX)\n",
    "    bg_startY = max(0,startY)\n",
    "    bg_endX = min(endX, maxW)\n",
    "    bg_endY = min(endY, maxH)\n",
    "\n",
    "    im_startX = 0 if startX > 0 else abs(startX)\n",
    "    im_startY = 0 if startY > 0 else abs(startY)\n",
    "    im_endX = w if endX < maxW else w-(endX-maxW)\n",
    "    im_endY = h if endY < maxH else h-(endY-maxH)\n",
    "    \n",
    "    background[bg_startY:bg_endY,bg_startX:bg_endX] += img[im_startY:im_endY,im_startX:im_endX]\n",
    "    \n",
    "    ## Normalize between -1 and 1 and then between 0 and 255\n",
    "    background = np.clip(background, -1,1)\n",
    "    background = Image.fromarray((background*127.5+127.5).astype(np.uint8))\n",
    "    \n",
    "    \n",
    "    return background "
   ]
  },
  {
   "cell_type": "code",
   "execution_count": 178,
   "id": "622dae12-51bc-493d-b228-dc0bac8ccec7",
   "metadata": {},
   "outputs": [],
   "source": [
    "sof_image=get_sof_only(readable_orientation=23)\n",
    "bg_image=np.zeros((512,512))"
   ]
  },
  {
   "cell_type": "code",
   "execution_count": 179,
   "id": "a2d25f18-5dea-4d3b-9e76-9273e771056f",
   "metadata": {},
   "outputs": [],
   "source": [
    "final_image = embed_norm(np.array(sof_image),bg_image, 45 - (sof_image.size[0] // 2), 200 - (sof_image.size[1] // 2))"
   ]
  },
  {
   "cell_type": "code",
   "execution_count": 180,
   "id": "d269be88-1679-4769-a1fe-4158f39f66ef",
   "metadata": {},
   "outputs": [
    {
     "data": {
      "image/png": "[encoded data removed]",
      "text/plain": [
       "<PIL.Image.Image image mode=L size=512x512>"
      ]
     },
     "execution_count": 180,
     "metadata": {},
     "output_type": "execute_result"
    }
   ],
   "source": [
    "final_image"
   ]
  },
  {
   "cell_type": "markdown",
   "id": "688078ec-5f1a-4606-b2a5-00f92e6b3386",
   "metadata": {},
   "source": [
    "# Interactive explorer"
   ]
  },
  {
   "cell_type": "code",
   "execution_count": 143,
   "id": "20c32758-5953-403c-bdf9-e4bf656fee52",
   "metadata": {},
   "outputs": [
    {
     "data": {
      "application/vnd.jupyter.widget-view+json": {
       "model_id": "f8c0b0c89b8d4fd0959b80ec72cbf38d",
       "version_major": 2,
       "version_minor": 0
      },
      "text/plain": [
       "interactive(children=(IntSlider(value=32, description='image_size', max=300, min=32, step=2), IntSlider(value=…"
      ]
     },
     "metadata": {},
     "output_type": "display_data"
    }
   ],
   "source": [
    "@interact(image_size=(32,300,2),readable_orientation=(0,90),edge_length=(10,30),polygon_sides=(4,8,1),side_fig=['left','right'],big_image_size=(200,512),\n",
    "         xpos=(100,300),ypos=(100,300))\n",
    "def vis_figure(image_size=32,readable_orientation=45,edge_length=10,polygon_sides=4,side_fig='left',big_image_size=512,xpos=100,ypos=100):\n",
    "    \n",
    "    orientation=360-readable_orientation\n",
    "    image_center=(image_size//2,image_size//2)\n",
    "\n",
    "    if(side_fig=='left'):\n",
    "        polygon_angle=(1)*(180-360//polygon_sides)\n",
    "    elif(side_fig=='right'):\n",
    "        polygon_angle=(-1)*(180-360//polygon_sides)\n",
    "        \n",
    "        \n",
    "    edges=[]\n",
    "    \n",
    "    image = Image.new('L', (image_size, image_size), 0)\n",
    "    draw = ImageDraw.Draw(image)\n",
    "    \n",
    "    \n",
    "    \n",
    "    edges.append((round(image_center[0] + edge_length//2 * math.cos(math.radians(180-orientation))), round(image_center[1] - edge_length//2 * math.sin(math.radians(180-orientation)))))\n",
    "    edges.append((round(image_center[0] + edge_length//2 * math.cos(math.radians(orientation))), round(image_center[1] + edge_length//2 * math.sin(math.radians(orientation)))))\n",
    "\n",
    "    for point in range(polygon_sides-2):\n",
    "        fulcrum=edges[-1]\n",
    "        rotating_point=edges[-2]\n",
    "        new_point=rotated_about(rotating_point[0],rotating_point[1],fulcrum[0],fulcrum[1],math.radians(polygon_angle))\n",
    "        edges.append(new_point)\n",
    "\n",
    "    draw.polygon(edges,fill=255)\n",
    "    display(image)\n",
    "    \n",
    "    \n",
    "    \n",
    "    \n",
    "    bg_image=np.zeros((big_image_size,big_image_size))\n",
    "    \n",
    "    startX=xpos - (image_size//2)\n",
    "    startY=ypos - (image_size//2)\n",
    "    \n",
    "    # final_image = embed_norm(np.array(image),bg_image, xpos, ypos)\n",
    "    final_image = embed_norm(np.array(image),bg_image, startX, startY)\n",
    "    \n",
    "    display(final_image)\n",
    "    \n",
    "    \n",
    "    \n",
    "    "
   ]
  },
  {
   "cell_type": "markdown",
   "id": "095d7b00-7849-4f04-9fd7-cf0100896c8a",
   "metadata": {},
   "source": [
    "# The next set of stimuli is to characterize the tuning - position invariance"
   ]
  },
  {
   "cell_type": "markdown",
   "id": "83b2ad88-f1c3-47f3-be90-b5a01ed0b959",
   "metadata": {},
   "source": [
    "# Part 3: Getting the 2 axis - orientation and perpendicular axis"
   ]
  },
  {
   "cell_type": "code",
   "execution_count": 16,
   "id": "222f8d00-665a-4bf9-9f70-f3d30a02a58e",
   "metadata": {},
   "outputs": [
    {
     "data": {
      "image/png": "[encoded data removed]",
      "text/plain": [
       "<PIL.Image.Image image mode=L size=100x100>"
      ]
     },
     "metadata": {},
     "output_type": "display_data"
    }
   ],
   "source": [
    "image_size=(100,100)\n",
    "readable_orientation=45\n",
    "edge_length=20\n",
    "polygon_sides=4\n",
    "side_fig='left'\n",
    "\n",
    "\n",
    "\n",
    "\n",
    "\n",
    "orientation=360-readable_orientation\n",
    "image_center=(image_size[0]//2,image_size[1]//2)\n",
    "\n",
    "if(side_fig=='left'):\n",
    "    polygon_angle=(1)*(180-360//polygon_sides)\n",
    "elif(side_fig=='right'):\n",
    "    polygon_angle=(-1)*(180-360//polygon_sides)\n",
    "    \n",
    "    \n",
    "    \n",
    "    \n",
    "    \n",
    "    \n",
    "\n",
    "edges=[]\n",
    "\n",
    "\n",
    "\n",
    "image = Image.new('L', (100, 100), 127)\n",
    "draw = ImageDraw.Draw(image)\n",
    "\n",
    "edges.append((round(image_center[0] + edge_length//2 * math.cos(math.radians(180-orientation))), round(image_center[1] - edge_length//2 * math.sin(math.radians(180-orientation)))))\n",
    "edges.append((round(image_center[0] + edge_length//2 * math.cos(math.radians(orientation))), round(image_center[1] + edge_length//2 * math.sin(math.radians(orientation)))))\n",
    "\n",
    "for point in range(polygon_sides-2):\n",
    "    fulcrum=edges[-1]\n",
    "    rotating_point=edges[-2]\n",
    "    new_point=rotated_about(rotating_point[0],rotating_point[1],fulcrum[0],fulcrum[1],math.radians(polygon_angle))\n",
    "    edges.append(new_point)\n",
    "\n",
    "\n",
    "draw.polygon(edges,fill=255)\n",
    "display(image)\n",
    "\n",
    "\n",
    "\n",
    "\n",
    "# just_oriented_edge = Image.new('L', (100, 100), 127)\n",
    "# draw = ImageDraw.Draw(just_oriented_edge)\n",
    "# draw.polygon(edges[:2],fill=255)\n",
    "# display(just_oriented_edge)\n",
    "\n",
    "\n",
    "\n",
    "# surface_oriented_edge = Image.new('RGB', (100, 100), (127,127,127))\n",
    "# draw = ImageDraw.Draw(surface_oriented_edge)\n",
    "# draw.polygon(edges,outline=(255,255,255),fill=(127,127,127))\n",
    "# draw.polygon(edges[:2],fill=(255,0,0))\n",
    "# display(surface_oriented_edge)\n",
    "\n",
    "\n"
   ]
  },
  {
   "cell_type": "code",
   "execution_count": 17,
   "id": "d94061e2-23fb-4b3c-a2f0-a9f1265677c9",
   "metadata": {},
   "outputs": [
    {
     "data": {
      "text/plain": [
       "[(43, 57), (57, 43), (43, 29), (29, 43)]"
      ]
     },
     "execution_count": 17,
     "metadata": {},
     "output_type": "execute_result"
    }
   ],
   "source": [
    "edges"
   ]
  },
  {
   "cell_type": "code",
   "execution_count": 18,
   "id": "8342557b-17ca-4d01-b441-b1d85c8f124d",
   "metadata": {},
   "outputs": [],
   "source": [
    "angle = math.atan2(edges[1][1]-edges[0][1], edges[1][0]-edges[0][0])"
   ]
  },
  {
   "cell_type": "code",
   "execution_count": 19,
   "id": "46e6fb1b-318a-4b3d-bc50-7a188d9143f2",
   "metadata": {},
   "outputs": [
    {
     "data": {
      "text/plain": [
       "-0.7853981633974483"
      ]
     },
     "execution_count": 19,
     "metadata": {},
     "output_type": "execute_result"
    }
   ],
   "source": [
    "angle"
   ]
  },
  {
   "cell_type": "code",
   "execution_count": 20,
   "id": "eea4f0ab-76ef-4026-af8b-1f527d57528c",
   "metadata": {},
   "outputs": [
    {
     "data": {
      "text/plain": [
       "(50, 50)"
      ]
     },
     "execution_count": 20,
     "metadata": {},
     "output_type": "execute_result"
    }
   ],
   "source": [
    "image_center"
   ]
  },
  {
   "cell_type": "code",
   "execution_count": 21,
   "id": "e43ac14d-9456-408b-a046-ed4f9ddfcc2d",
   "metadata": {},
   "outputs": [],
   "source": [
    "new_points=[]\n",
    "new_points_perpendicular=[]\n",
    "for i in range(100):\n",
    "    new_points.append((round(image_center[0] + i * math.cos(angle)),round(image_center[1] - i * math.cos(angle))))\n",
    "    new_points_perpendicular.append((round(image_center[0] + i * math.cos(angle)),round(image_center[1] + i * math.cos(angle))))"
   ]
  },
  {
   "cell_type": "code",
   "execution_count": 22,
   "id": "7e76463e-4051-4fd6-87ff-3f4d04ef31e6",
   "metadata": {},
   "outputs": [],
   "source": [
    "draw.polygon(new_points,fill=255)\n"
   ]
  },
  {
   "cell_type": "code",
   "execution_count": 23,
   "id": "4cd55abc-f8a5-4739-8190-c8e5935979ec",
   "metadata": {},
   "outputs": [
    {
     "data": {
      "image/png": "[encoded data removed]",
      "text/plain": [
       "<PIL.Image.Image image mode=L size=100x100>"
      ]
     },
     "metadata": {},
     "output_type": "display_data"
    }
   ],
   "source": [
    "display(image)"
   ]
  },
  {
   "cell_type": "code",
   "execution_count": 24,
   "id": "f5f2456e-67c3-4cb9-80c8-a8408d643f26",
   "metadata": {},
   "outputs": [],
   "source": [
    "draw.polygon(new_points_perpendicular,fill=255)"
   ]
  },
  {
   "cell_type": "code",
   "execution_count": 25,
   "id": "39078d08-7b98-42a8-8d6a-9dd7f40fb7b5",
   "metadata": {},
   "outputs": [
    {
     "data": {
      "image/png": "[encoded data removed]",
      "text/plain": [
       "<PIL.Image.Image image mode=L size=100x100>"
      ]
     },
     "metadata": {},
     "output_type": "display_data"
    }
   ],
   "source": [
    "display(image)"
   ]
  },
  {
   "cell_type": "markdown",
   "id": "26424a98-6480-4750-a7ac-418f03320ddc",
   "metadata": {},
   "source": [
    "# Part 4: Position Invariance stimuli"
   ]
  },
  {
   "cell_type": "code",
   "execution_count": 26,
   "id": "390a500d-fea7-4983-a768-9a9b4e855281",
   "metadata": {},
   "outputs": [
    {
     "data": {
      "application/vnd.jupyter.widget-view+json": {
       "model_id": "2ca51f46f12a4136b1ed4cec645d8563",
       "version_major": 2,
       "version_minor": 0
      },
      "text/plain": [
       "interactive(children=(IntSlider(value=184, description='image_size', max=300, min=70, step=2), IntSlider(value…"
      ]
     },
     "metadata": {},
     "output_type": "display_data"
    }
   ],
   "source": [
    "@interact(image_size=(70,300,2),readable_orientation=(0,90),edge_length=(10,30),overlapping_distance=(0,100),polygon_sides=(4,8,1),side_fig=['left','right'])\n",
    "def vis_figure(image_size,readable_orientation,edge_length,overlapping_distance=0,polygon_sides=4,side_fig='left'):\n",
    "    \n",
    "    orientation=360-readable_orientation\n",
    "    \n",
    "\n",
    "    \n",
    "    \n",
    "\n",
    "    if(side_fig=='left'):\n",
    "        polygon_angle=(1)*(180-360//polygon_sides)\n",
    "        overlapping_distance=overlapping_distance*-1.0\n",
    "    elif(side_fig=='right'):\n",
    "        polygon_angle=(-1)*(180-360//polygon_sides)\n",
    "        \n",
    "        \n",
    "    image_center=(image_size//2,image_size//2)\n",
    "    edges=[]\n",
    "    \n",
    "    image = Image.new('L', (image_size, image_size), 127)\n",
    "    draw = ImageDraw.Draw(image)\n",
    "    \n",
    "    \n",
    "    \n",
    "    edges.append((round(image_center[0] + edge_length//2 * math.cos(math.radians(180-orientation))), round(image_center[1] - edge_length//2 * math.sin(math.radians(180-orientation)))))\n",
    "    edges.append((round(image_center[0] + edge_length//2 * math.cos(math.radians(orientation))), round(image_center[1] + edge_length//2 * math.sin(math.radians(orientation)))))\n",
    "\n",
    "    for point in range(polygon_sides-2):\n",
    "        fulcrum=edges[-1]\n",
    "        rotating_point=edges[-2]\n",
    "        new_point=rotated_about(rotating_point[0],rotating_point[1],fulcrum[0],fulcrum[1],math.radians(polygon_angle))\n",
    "        edges.append(new_point)\n",
    "\n",
    "    draw.polygon(edges,fill=200)\n",
    "    # display(image)\n",
    "    \n",
    "    \n",
    "    \n",
    "    \n",
    "    ## Get the axis\n",
    "    angle = math.atan2(edges[1][1]-edges[0][1], edges[1][0]-edges[0][0])\n",
    "    ## Perpendicular axis\n",
    "    new_image_center=(round(image_center[0] + overlapping_distance * math.cos(angle)),round(image_center[1] + overlapping_distance * math.cos(angle)))\n",
    "    \n",
    "    \n",
    "    \n",
    "    \n",
    "    \n",
    "    \n",
    "\n",
    "    if(side_fig=='left'):\n",
    "        polygon_angle=(1)*(180-360//polygon_sides)\n",
    "        \n",
    "    elif(side_fig=='right'):\n",
    "        polygon_angle=(-1)*(180-360//polygon_sides)\n",
    "        \n",
    "    image_center=(new_image_center[0],new_image_center[1])    \n",
    "    edges=[]\n",
    "    \n",
    "    # image = Image.new('L', (image_size, image_size), 127)\n",
    "    # draw = ImageDraw.Draw(image)\n",
    "    \n",
    "    \n",
    "    \n",
    "    edges.append((round(image_center[0] + edge_length//2 * math.cos(math.radians(180-orientation))), round(image_center[1] - edge_length//2 * math.sin(math.radians(180-orientation)))))\n",
    "    edges.append((round(image_center[0] + edge_length//2 * math.cos(math.radians(orientation))), round(image_center[1] + edge_length//2 * math.sin(math.radians(orientation)))))\n",
    "\n",
    "    for point in range(polygon_sides-2):\n",
    "        fulcrum=edges[-1]\n",
    "        rotating_point=edges[-2]\n",
    "        new_point=rotated_about(rotating_point[0],rotating_point[1],fulcrum[0],fulcrum[1],math.radians(polygon_angle))\n",
    "        edges.append(new_point)\n",
    "\n",
    "    draw.polygon(edges,fill=60)\n",
    "    display(image)\n",
    "\n",
    "    \n",
    "    "
   ]
  },
  {
   "cell_type": "code",
   "execution_count": 27,
   "id": "daee7309-b292-4827-ba95-a192168db42b",
   "metadata": {},
   "outputs": [
    {
     "data": {
      "application/vnd.jupyter.widget-view+json": {
       "model_id": "366a0852ede842ffa972df0c802efb97",
       "version_major": 2,
       "version_minor": 0
      },
      "text/plain": [
       "interactive(children=(IntSlider(value=184, description='image_size', max=300, min=70, step=2), IntSlider(value…"
      ]
     },
     "metadata": {},
     "output_type": "display_data"
    }
   ],
   "source": [
    "@interact(image_size=(70,300,2),readable_orientation=(0,90),edge_length=(10,30),overlapping_distance=(0,100),polygon_sides=(4,8,1),side_fig=['left','right'])\n",
    "def vis_figure(image_size,readable_orientation,edge_length,overlapping_distance=0,polygon_sides=4,side_fig='left'):\n",
    "    \n",
    "    orientation=360-readable_orientation\n",
    "    \n",
    "\n",
    "    \n",
    "    \n",
    "\n",
    "    if(side_fig=='left'):\n",
    "        polygon_angle=(1)*(180-360//polygon_sides)\n",
    "        overlapping_distance=overlapping_distance*-1.0\n",
    "    elif(side_fig=='right'):\n",
    "        polygon_angle=(-1)*(180-360//polygon_sides)\n",
    "        \n",
    "        \n",
    "    image_center=(image_size//2,image_size//2)\n",
    "    edges=[]\n",
    "    \n",
    "    image = Image.new('L', (image_size, image_size), 200)\n",
    "    draw = ImageDraw.Draw(image)\n",
    "    \n",
    "    \n",
    "    \n",
    "    edges.append((round(image_center[0] + edge_length//2 * math.cos(math.radians(180-orientation))), round(image_center[1] - edge_length//2 * math.sin(math.radians(180-orientation)))))\n",
    "    edges.append((round(image_center[0] + edge_length//2 * math.cos(math.radians(orientation))), round(image_center[1] + edge_length//2 * math.sin(math.radians(orientation)))))\n",
    "\n",
    "    for point in range(polygon_sides-2):\n",
    "        fulcrum=edges[-1]\n",
    "        rotating_point=edges[-2]\n",
    "        new_point=rotated_about(rotating_point[0],rotating_point[1],fulcrum[0],fulcrum[1],math.radians(polygon_angle))\n",
    "        edges.append(new_point)\n",
    "\n",
    "    # draw.polygon(edges,fill=127)\n",
    "    # display(image)\n",
    "    \n",
    "    \n",
    "    \n",
    "    \n",
    "    ## Get the axis\n",
    "    angle = math.atan2(edges[1][1]-edges[0][1], edges[1][0]-edges[0][0])\n",
    "    ## Perpendicular axis\n",
    "    new_image_center=(round(image_center[0] + overlapping_distance * math.cos(angle)),round(image_center[1] + overlapping_distance * math.cos(angle)))\n",
    "    \n",
    "    \n",
    "    \n",
    "    \n",
    "    \n",
    "    \n",
    "\n",
    "    if(side_fig=='left'):\n",
    "        polygon_angle=(1)*(180-360//polygon_sides)\n",
    "        \n",
    "    elif(side_fig=='right'):\n",
    "        polygon_angle=(-1)*(180-360//polygon_sides)\n",
    "        \n",
    "    image_center=(new_image_center[0],new_image_center[1])    \n",
    "    edges=[]\n",
    "    \n",
    "    # image = Image.new('L', (image_size, image_size), 127)\n",
    "    # draw = ImageDraw.Draw(image)\n",
    "    \n",
    "    \n",
    "    \n",
    "    edges.append((round(image_center[0] + edge_length//2 * math.cos(math.radians(180-orientation))), round(image_center[1] - edge_length//2 * math.sin(math.radians(180-orientation)))))\n",
    "    edges.append((round(image_center[0] + edge_length//2 * math.cos(math.radians(orientation))), round(image_center[1] + edge_length//2 * math.sin(math.radians(orientation)))))\n",
    "\n",
    "    for point in range(polygon_sides-2):\n",
    "        fulcrum=edges[-1]\n",
    "        rotating_point=edges[-2]\n",
    "        new_point=rotated_about(rotating_point[0],rotating_point[1],fulcrum[0],fulcrum[1],math.radians(polygon_angle))\n",
    "        edges.append(new_point)\n",
    "\n",
    "    draw.polygon(edges,fill=127)\n",
    "    display(image)\n",
    "\n",
    "    \n",
    "    "
   ]
  },
  {
   "cell_type": "code",
   "execution_count": null,
   "id": "0c1c7fcf-8bd1-4a95-a996-81fa41fa3e8d",
   "metadata": {},
   "outputs": [],
   "source": []
  },
  {
   "cell_type": "code",
   "execution_count": null,
   "id": "3eded4c6-9460-495e-8965-c928a354ee4f",
   "metadata": {},
   "outputs": [],
   "source": []
  },
  {
   "cell_type": "code",
   "execution_count": null,
   "id": "cddb8bf9-2c30-47b7-a2e6-a183b1d96d0b",
   "metadata": {},
   "outputs": [],
   "source": []
  },
  {
   "cell_type": "markdown",
   "id": "bbeca7d8-0c6e-47fe-a0d0-48d5ed252132",
   "metadata": {},
   "source": [
    "# Part 5: Overlapping figure to guage the underlying mechanism [To-Do]"
   ]
  },
  {
   "cell_type": "code",
   "execution_count": 361,
   "id": "87697492-fa53-4531-a227-084a0010bbcf",
   "metadata": {},
   "outputs": [
    {
     "data": {
      "application/vnd.jupyter.widget-view+json": {
       "model_id": "071f2745c2b8431cb5f62a69d74cb890",
       "version_major": 2,
       "version_minor": 0
      },
      "text/plain": [
       "interactive(children=(IntSlider(value=184, description='image_size', max=300, min=70, step=2), IntSlider(value…"
      ]
     },
     "metadata": {},
     "output_type": "display_data"
    }
   ],
   "source": [
    "@interact(image_size=(70,300,2),readable_orientation=(0,90),edge_length=(10,30),overlapping_distance=(-100,100),polygon_sides=(4,8,1))\n",
    "def vis_figure(image_size,readable_orientation,edge_length,overlapping_distance,polygon_sides=4):\n",
    "    \n",
    "    orientation=360-readable_orientation\n",
    "    \n",
    "\n",
    "    \n",
    "    \n",
    "    side_fig='left'\n",
    "    if(side_fig=='left'):\n",
    "        polygon_angle=(1)*(180-360//polygon_sides)\n",
    "    elif(side_fig=='right'):\n",
    "        polygon_angle=(-1)*(180-360//polygon_sides)\n",
    "        \n",
    "        \n",
    "    image_center=(image_size//2,image_size//2)\n",
    "    edges=[]\n",
    "    \n",
    "    image = Image.new('L', (image_size, image_size), 127)\n",
    "    draw = ImageDraw.Draw(image)\n",
    "    \n",
    "    \n",
    "    \n",
    "    edges.append((round(image_center[0] + edge_length//2 * math.cos(math.radians(180-orientation))), round(image_center[1] - edge_length//2 * math.sin(math.radians(180-orientation)))))\n",
    "    edges.append((round(image_center[0] + edge_length//2 * math.cos(math.radians(orientation))), round(image_center[1] + edge_length//2 * math.sin(math.radians(orientation)))))\n",
    "\n",
    "    for point in range(polygon_sides-2):\n",
    "        fulcrum=edges[-1]\n",
    "        rotating_point=edges[-2]\n",
    "        new_point=rotated_about(rotating_point[0],rotating_point[1],fulcrum[0],fulcrum[1],math.radians(polygon_angle))\n",
    "        edges.append(new_point)\n",
    "\n",
    "    draw.polygon(edges,fill=200)\n",
    "    display(image)\n",
    "    \n",
    "    \n",
    "    \n",
    "    \n",
    "    ## Get the axis\n",
    "    angle = math.atan2(edges[1][1]-edges[0][1], edges[1][0]-edges[0][0])\n",
    "    ## Orientation Axis\n",
    "    # new_image_center=((round(image_center[0] + overlapping_distance * math.cos(angle)),round(image_center[1] - overlapping_distance * math.cos(angle))))\n",
    "    ## Perpendicular axis\n",
    "    new_image_center=(round(image_center[0] + overlapping_distance * math.cos(angle)),round(image_center[1] + overlapping_distance * math.cos(angle)))\n",
    "    \n",
    "    \n",
    "    \n",
    "    \n",
    "    \n",
    "    \n",
    "    side_fig='right'\n",
    "    if(side_fig=='left'):\n",
    "        polygon_angle=(1)*(180-360//polygon_sides)\n",
    "    elif(side_fig=='right'):\n",
    "        polygon_angle=(-1)*(180-360//polygon_sides)\n",
    "        \n",
    "    image_center=(new_image_center[0],new_image_center[1])    \n",
    "    edges=[]\n",
    "    \n",
    "    # image = Image.new('L', (image_size, image_size), 127)\n",
    "    # draw = ImageDraw.Draw(image)\n",
    "    \n",
    "    \n",
    "    \n",
    "    edges.append((round(image_center[0] + edge_length//2 * math.cos(math.radians(180-orientation))), round(image_center[1] - edge_length//2 * math.sin(math.radians(180-orientation)))))\n",
    "    edges.append((round(image_center[0] + edge_length//2 * math.cos(math.radians(orientation))), round(image_center[1] + edge_length//2 * math.sin(math.radians(orientation)))))\n",
    "\n",
    "    for point in range(polygon_sides-2):\n",
    "        fulcrum=edges[-1]\n",
    "        rotating_point=edges[-2]\n",
    "        new_point=rotated_about(rotating_point[0],rotating_point[1],fulcrum[0],fulcrum[1],math.radians(polygon_angle))\n",
    "        edges.append(new_point)\n",
    "\n",
    "    draw.polygon(edges,fill=60)\n",
    "    display(image)\n",
    "    \n",
    "    \n",
    "    \n",
    "    \n",
    "    \n",
    "    \n",
    "#     just_oriented_edge = Image.new('L', (image_size, image_size), 127)\n",
    "#     draw = ImageDraw.Draw(just_oriented_edge)\n",
    "#     draw.polygon(edges[:2],fill=200)\n",
    "#     display(just_oriented_edge)\n",
    "    \n",
    "    \n",
    "#     surface_oriented_edge = Image.new('RGB', (image_size, image_size), (127,127,127))\n",
    "#     draw = ImageDraw.Draw(surface_oriented_edge)\n",
    "#     draw.polygon(edges,outline=(255,255,255),fill=(127,127,127))\n",
    "#     draw.polygon(edges[:2],fill=(255,0,0))\n",
    "#     display(surface_oriented_edge)\n",
    "    \n",
    "    \n",
    "    "
   ]
  },
  {
   "cell_type": "code",
   "execution_count": null,
   "id": "d9ce0f6d-3538-4853-b0ae-80986cc15924",
   "metadata": {},
   "outputs": [],
   "source": []
  }
 ],
 "metadata": {
  "kernelspec": {
   "display_name": "Python 3 (ipykernel)",
   "language": "python",
   "name": "python3"
  },
  "language_info": {
   "codemirror_mode": {
    "name": "ipython",
    "version": 3
   },
   "file_extension": ".py",
   "mimetype": "text/x-python",
   "name": "python",
   "nbconvert_exporter": "python",
   "pygments_lexer": "ipython3",
   "version": "3.7.13"
  }
 },
 "nbformat": 4,
 "nbformat_minor": 5
}
