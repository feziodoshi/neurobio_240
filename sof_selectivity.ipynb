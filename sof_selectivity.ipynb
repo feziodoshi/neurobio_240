{
 "cells": [
  {
   "cell_type": "code",
   "execution_count": 101,
   "id": "0229f1a7-a6d4-4f49-9bf1-8a23197539b5",
   "metadata": {},
   "outputs": [],
   "source": [
    "%config Completer.use_jedi = False\n",
    "\n",
    "import sys\n",
    "sys.path.insert(1,'../')\n",
    "\n",
    "\n",
    "\n",
    "# Pytorch related\n",
    "import torch\n",
    "import torch.nn as nn\n",
    "import torchvision\n",
    "import torchvision.transforms as transforms\n",
    "from torchvision import datasets, transforms\n",
    "from torch.utils import data as dt\n",
    "from torchinfo import summary\n",
    "import torchvision.models as pretrained_models\n",
    "from alexnet_pytorch import AlexNet\n",
    "import torch.optim as optim\n",
    "from torch.utils.data import Dataset, DataLoader\n",
    "from torch.utils import model_zoo\n",
    "\n",
    "\n",
    "\n",
    "# Numpy, Matplotlib, Pandas, Sklearn\n",
    "import numpy as np\n",
    "import pandas as pd\n",
    "import matplotlib.pyplot as plt\n",
    "from matplotlib import patches\n",
    "import seaborn as sns\n",
    "from sklearn import manifold\n",
    "from sklearn.decomposition import PCA\n",
    "from scipy.spatial import distance\n",
    "from scipy.stats.stats import pearsonr \n",
    "%matplotlib inline\n",
    "\n",
    "\n",
    "\n",
    "# python utilities\n",
    "from itertools import combinations\n",
    "import pickle\n",
    "from tqdm import tqdm_notebook as tqdm\n",
    "import copy\n",
    "from ipywidgets import interact, interactive, fixed, interact_manual\n",
    "import ipywidgets as widgets\n",
    "\n",
    "import os\n",
    "from IPython.display import Image\n",
    "from IPython.core.debugger import set_trace\n",
    "import collections\n",
    "from functools import partial\n",
    "import math\n",
    "import time\n",
    "\n",
    "from PIL import Image, ImageStat\n",
    "from matplotlib.pyplot import imshow\n",
    "\n",
    "# Extra imports\n",
    "# from pytorch_pretrained_vit import ViT\n",
    "# from models import barlow_twins\n",
    "from lib.feature_extractor import FeatureExtractor\n",
    "# from lib.custom_dataset import Contour_Dataset\n",
    "# from lib.build_fe_ft_models import *\n",
    "from lib.utility_functions import imshow_grid\n",
    "from field_stim_functions import *\n",
    "from lib.receptive_fields import *\n"
   ]
  },
  {
   "cell_type": "code",
   "execution_count": 102,
   "id": "32e8ccc1-32d8-4d75-b5a5-031692b48948",
   "metadata": {},
   "outputs": [],
   "source": [
    "import math\n",
    "from PIL import Image, ImageDraw\n",
    "import numpy as np\n",
    "from IPython.html.widgets import interact, interactive, fixed\n",
    "from IPython.display import display "
   ]
  },
  {
   "cell_type": "markdown",
   "id": "3b1584db-dce4-4baa-b4c0-fc90e42276b4",
   "metadata": {},
   "source": [
    "# Hyperparameters"
   ]
  },
  {
   "cell_type": "code",
   "execution_count": 103,
   "id": "11449ab3-5f05-4498-8bee-c0649320edf9",
   "metadata": {},
   "outputs": [],
   "source": [
    "device='cpu'\n",
    "device = torch.device('cuda:0')"
   ]
  },
  {
   "cell_type": "code",
   "execution_count": 104,
   "id": "4e23d5d5-c0ca-4f41-90da-261af189c524",
   "metadata": {},
   "outputs": [],
   "source": [
    "current_layer='features.4'\n"
   ]
  },
  {
   "cell_type": "markdown",
   "id": "02add91b-7711-4f11-8a9c-1330c053d734",
   "metadata": {},
   "source": [
    "# Helper functions -I"
   ]
  },
  {
   "cell_type": "code",
   "execution_count": 105,
   "id": "6ce73a62-ab54-4ac3-b278-a73202de75ed",
   "metadata": {},
   "outputs": [],
   "source": [
    "#finds the straight-line distance between two points\n",
    "def distance(ax, ay, bx, by):\n",
    "    return math.sqrt((by - ay)**2 + (bx - ax)**2)\n",
    "\n",
    "#rotates point `A` about point `B` by `angle` radians clockwise.\n",
    "def rotated_about(ax, ay, bx, by, angle):\n",
    "    radius = distance(ax,ay,bx,by)\n",
    "    angle += math.atan2(ay-by, ax-bx)\n",
    "    return (\n",
    "        round(bx + radius * math.cos(angle)),\n",
    "        round(by + radius * math.sin(angle))\n",
    "    )"
   ]
  },
  {
   "cell_type": "code",
   "execution_count": 315,
   "id": "4c82b846-9761-46c2-a73e-7a9a9a4c9a25",
   "metadata": {},
   "outputs": [],
   "source": [
    "def imscale(im, minVal=None, maxVal=None):\n",
    "    # first resclae the image between 0 and 1 -> It is important to set the bounds as -1 and 1 because the data itself will be restricted between -1 and 1\n",
    "    minVal = im.min() if minVal is None else minVal\n",
    "    maxVal = im.max() if maxVal is None else maxVal\n",
    "    tempIm = (im - minVal)/(maxVal-minVal);\n",
    "    \n",
    "    return tempIm\n",
    "\n",
    "def get_image(imHeight=512, imWidth=512):\n",
    "    '''\n",
    "    \n",
    "    '''\n",
    "    img = np.zeros((imHeight,imWidth,3))\n",
    "    \n",
    "    img = imscale(img, -1, 1)\n",
    "    img = np.array(img*255).astype(np.uint8)\n",
    "   \n",
    "    \n",
    "    return Image.fromarray(img.astype(np.uint8))\n",
    "\n",
    "def embed_norm(img, background, startX, startY):\n",
    "    \n",
    "    H,W = background.shape\n",
    "    maxH,maxW = H, W\n",
    "    h,w = img.shape\n",
    "    endX = startX + w\n",
    "    endY = startY + h\n",
    "    \n",
    "    bg_startX = max(0,startX)\n",
    "    bg_startY = max(0,startY)\n",
    "    bg_endX = min(endX, maxW)\n",
    "    bg_endY = min(endY, maxH)\n",
    "\n",
    "    im_startX = 0 if startX > 0 else abs(startX)\n",
    "    im_startY = 0 if startY > 0 else abs(startY)\n",
    "    im_endX = w if endX < maxW else w-(endX-maxW)\n",
    "    im_endY = h if endY < maxH else h-(endY-maxH)\n",
    "    \n",
    "    background[bg_startY:bg_endY,bg_startX:bg_endX] += img[im_startY:im_endY,im_startX:im_endX]\n",
    "    \n",
    "    ## Normalize between -1 and 1 and then between 0 and 255\n",
    "    background = np.clip(background, -1,1)\n",
    "    background = Image.fromarray((background*127.5+127.5).astype(np.uint8))\n",
    "    \n",
    "    \n",
    "    return background "
   ]
  },
  {
   "cell_type": "code",
   "execution_count": 321,
   "id": "802ff55b-5cd2-4be3-bcb3-ab697cc4a635",
   "metadata": {},
   "outputs": [],
   "source": [
    "def just_norm(background):\n",
    "    \n",
    "    ## Normalize between -1 and 1 and then between 0 and 255\n",
    "    background = np.clip(background, -1,1)\n",
    "    background = Image.fromarray((background*127.5+127.5).astype(np.uint8))\n",
    "    \n",
    "    \n",
    "    return background \n",
    "\n",
    "\n",
    "\n",
    "def embed_norm_mask(img, background, startX, startY,mask):\n",
    "    \n",
    "    H,W = background.shape\n",
    "    maxH,maxW = H, W\n",
    "    h,w = img.shape\n",
    "    endX = startX + w\n",
    "    endY = startY + h\n",
    "    \n",
    "    bg_startX = max(0,startX)\n",
    "    bg_startY = max(0,startY)\n",
    "    bg_endX = min(endX, maxW)\n",
    "    bg_endY = min(endY, maxH)\n",
    "\n",
    "    im_startX = 0 if startX > 0 else abs(startX)\n",
    "    im_startY = 0 if startY > 0 else abs(startY)\n",
    "    im_endX = w if endX < maxW else w-(endX-maxW)\n",
    "    im_endY = h if endY < maxH else h-(endY-maxH)\n",
    "    \n",
    "    background[bg_startY:bg_endY,bg_startX:bg_endX] += img[im_startY:im_endY,im_startX:im_endX]\n",
    "    background=background*mask\n",
    "    \n",
    "    ## Normalize between -1 and 1 and then between 0 and 255\n",
    "    background = np.clip(background, -1,1)\n",
    "    background = Image.fromarray((background*127.5+127.5).astype(np.uint8))\n",
    "    \n",
    "    \n",
    "    return background "
   ]
  },
  {
   "cell_type": "markdown",
   "id": "08a16d64-8c4d-40a3-a8fb-c7fa5cd09f47",
   "metadata": {},
   "source": [
    "# PART A: Exploring the stimuli"
   ]
  },
  {
   "cell_type": "markdown",
   "id": "353ae858-5707-4b08-8830-692cd1494a1e",
   "metadata": {},
   "source": [
    "### Interactive - get both constrast versions"
   ]
  },
  {
   "cell_type": "code",
   "execution_count": 107,
   "id": "b5dcc773-6296-4396-a48b-eee18dfc00c7",
   "metadata": {},
   "outputs": [
    {
     "data": {
      "application/vnd.jupyter.widget-view+json": {
       "model_id": "8fe5da0c18f04965b4b19faf5235d61c",
       "version_major": 2,
       "version_minor": 0
      },
      "text/plain": [
       "interactive(children=(IntSlider(value=184, description='image_size', max=300, min=70, step=2), IntSlider(value…"
      ]
     },
     "metadata": {},
     "output_type": "display_data"
    }
   ],
   "source": [
    "@interact(image_size=(70,300,2),readable_orientation=(0,90),edge_length=(10,30),polygon_sides=(4,8,1))\n",
    "def vis_figure(image_size,readable_orientation,edge_length,polygon_sides):\n",
    "    ############################################################################################################\n",
    "    ## Fig 1 - left, light bg, dark fg\n",
    "    orientation=360-readable_orientation\n",
    "    image_center=(image_size//2,image_size//2)\n",
    "    side_fig='left'\n",
    "    \n",
    "    if(side_fig=='left'):\n",
    "        polygon_angle=(1)*(180-360//polygon_sides)\n",
    "    elif(side_fig=='right'):\n",
    "        polygon_angle=(-1)*(180-360//polygon_sides)\n",
    "        \n",
    "        \n",
    "    edges=[]\n",
    "    \n",
    "    image = Image.new('L', (image_size, image_size), 200)\n",
    "    draw = ImageDraw.Draw(image)\n",
    "    \n",
    "    \n",
    "    \n",
    "    edges.append((round(image_center[0] + edge_length//2 * math.cos(math.radians(180-orientation))), round(image_center[1] - edge_length//2 * math.sin(math.radians(180-orientation)))))\n",
    "    edges.append((round(image_center[0] + edge_length//2 * math.cos(math.radians(orientation))), round(image_center[1] + edge_length//2 * math.sin(math.radians(orientation)))))\n",
    "\n",
    "    for point in range(polygon_sides-2):\n",
    "        fulcrum=edges[-1]\n",
    "        rotating_point=edges[-2]\n",
    "        new_point=rotated_about(rotating_point[0],rotating_point[1],fulcrum[0],fulcrum[1],math.radians(polygon_angle))\n",
    "        edges.append(new_point)\n",
    "\n",
    "    draw.polygon(edges,fill=127)\n",
    "    display(image)\n",
    "    ############################################################################################################\n",
    "    \n",
    "    \n",
    "    ############################################################################################################\n",
    "    ## Fig 2 - right, light bg, dark fg\n",
    "    orientation=360-readable_orientation\n",
    "    image_center=(image_size//2,image_size//2)\n",
    "    side_fig='right'\n",
    "    \n",
    "    if(side_fig=='left'):\n",
    "        polygon_angle=(1)*(180-360//polygon_sides)\n",
    "    elif(side_fig=='right'):\n",
    "        polygon_angle=(-1)*(180-360//polygon_sides)\n",
    "        \n",
    "        \n",
    "    edges=[]\n",
    "    \n",
    "    image = Image.new('L', (image_size, image_size), 200)\n",
    "    draw = ImageDraw.Draw(image)\n",
    "    \n",
    "    \n",
    "    \n",
    "    edges.append((round(image_center[0] + edge_length//2 * math.cos(math.radians(180-orientation))), round(image_center[1] - edge_length//2 * math.sin(math.radians(180-orientation)))))\n",
    "    edges.append((round(image_center[0] + edge_length//2 * math.cos(math.radians(orientation))), round(image_center[1] + edge_length//2 * math.sin(math.radians(orientation)))))\n",
    "\n",
    "    for point in range(polygon_sides-2):\n",
    "        fulcrum=edges[-1]\n",
    "        rotating_point=edges[-2]\n",
    "        new_point=rotated_about(rotating_point[0],rotating_point[1],fulcrum[0],fulcrum[1],math.radians(polygon_angle))\n",
    "        edges.append(new_point)\n",
    "\n",
    "    draw.polygon(edges,fill=127)\n",
    "    display(image)\n",
    "    ############################################################################################################\n",
    "    \n",
    "    \n",
    "    \n",
    "    ############################################################################################################\n",
    "    ## Fig 3 - left, dark bg, light fg\n",
    "    orientation=360-readable_orientation\n",
    "    image_center=(image_size//2,image_size//2)\n",
    "    side_fig='left'\n",
    "    \n",
    "    if(side_fig=='left'):\n",
    "        polygon_angle=(1)*(180-360//polygon_sides)\n",
    "    elif(side_fig=='right'):\n",
    "        polygon_angle=(-1)*(180-360//polygon_sides)\n",
    "        \n",
    "        \n",
    "    edges=[]\n",
    "    \n",
    "    image = Image.new('L', (image_size, image_size), 127)\n",
    "    draw = ImageDraw.Draw(image)\n",
    "    \n",
    "    \n",
    "    \n",
    "    edges.append((round(image_center[0] + edge_length//2 * math.cos(math.radians(180-orientation))), round(image_center[1] - edge_length//2 * math.sin(math.radians(180-orientation)))))\n",
    "    edges.append((round(image_center[0] + edge_length//2 * math.cos(math.radians(orientation))), round(image_center[1] + edge_length//2 * math.sin(math.radians(orientation)))))\n",
    "\n",
    "    for point in range(polygon_sides-2):\n",
    "        fulcrum=edges[-1]\n",
    "        rotating_point=edges[-2]\n",
    "        new_point=rotated_about(rotating_point[0],rotating_point[1],fulcrum[0],fulcrum[1],math.radians(polygon_angle))\n",
    "        edges.append(new_point)\n",
    "\n",
    "    draw.polygon(edges,fill=200)\n",
    "    display(image)\n",
    "    ############################################################################################################\n",
    "    \n",
    "    \n",
    "    \n",
    "    ############################################################################################################\n",
    "    ## Fig 4 - right, dark bg, light fg\n",
    "    orientation=360-readable_orientation\n",
    "    image_center=(image_size//2,image_size//2)\n",
    "    side_fig='right'\n",
    "    \n",
    "    if(side_fig=='left'):\n",
    "        polygon_angle=(1)*(180-360//polygon_sides)\n",
    "    elif(side_fig=='right'):\n",
    "        polygon_angle=(-1)*(180-360//polygon_sides)\n",
    "        \n",
    "        \n",
    "    edges=[]\n",
    "    \n",
    "    image = Image.new('L', (image_size, image_size), 127)\n",
    "    draw = ImageDraw.Draw(image)\n",
    "    \n",
    "    \n",
    "    \n",
    "    edges.append((round(image_center[0] + edge_length//2 * math.cos(math.radians(180-orientation))), round(image_center[1] - edge_length//2 * math.sin(math.radians(180-orientation)))))\n",
    "    edges.append((round(image_center[0] + edge_length//2 * math.cos(math.radians(orientation))), round(image_center[1] + edge_length//2 * math.sin(math.radians(orientation)))))\n",
    "\n",
    "    for point in range(polygon_sides-2):\n",
    "        fulcrum=edges[-1]\n",
    "        rotating_point=edges[-2]\n",
    "        new_point=rotated_about(rotating_point[0],rotating_point[1],fulcrum[0],fulcrum[1],math.radians(polygon_angle))\n",
    "        edges.append(new_point)\n",
    "\n",
    "    draw.polygon(edges,fill=200)\n",
    "    display(image)\n",
    "    ############################################################################################################\n",
    "    \n",
    "    ## Fig 5 - just oriented edge, light bg\n",
    "    just_oriented_edge = Image.new('RGB', (image_size, image_size), (200,200,200))\n",
    "    draw = ImageDraw.Draw(just_oriented_edge)\n",
    "    draw.polygon(edges[:2],fill=(255,0,0))\n",
    "    display(just_oriented_edge)\n",
    "    \n",
    "    ## Fig 6 - just oriented edge, dark bg\n",
    "    just_oriented_edge = Image.new('RGB', (image_size, image_size), (127,127,127))\n",
    "    draw = ImageDraw.Draw(just_oriented_edge)\n",
    "    draw.polygon(edges[:2],fill=(255,0,0))\n",
    "    display(just_oriented_edge)\n",
    "    \n",
    "    \n",
    "    \n",
    "    \n",
    "    "
   ]
  },
  {
   "cell_type": "code",
   "execution_count": 108,
   "id": "73e66b35-796f-4b48-af8f-0bea3d15a8c6",
   "metadata": {},
   "outputs": [],
   "source": [
    "def get_sof_complete(image_size=32,readable_orientation=45,edge_length=14,polygon_sides=4,side_fig='left'):\n",
    "    \n",
    "    orientation=360-readable_orientation\n",
    "    image_center=(image_size//2,image_size//2)\n",
    "\n",
    "    if(side_fig=='left'):\n",
    "        polygon_angle=(1)*(180-360//polygon_sides)\n",
    "    elif(side_fig=='right'):\n",
    "        polygon_angle=(-1)*(180-360//polygon_sides)\n",
    "        \n",
    "        \n",
    "    edges=[]\n",
    "    \n",
    "    image = Image.new('L', (image_size, image_size), 127)\n",
    "    draw = ImageDraw.Draw(image)\n",
    "    \n",
    "    \n",
    "    \n",
    "    edges.append((round(image_center[0] + edge_length//2 * math.cos(math.radians(180-orientation))), round(image_center[1] - edge_length//2 * math.sin(math.radians(180-orientation)))))\n",
    "    edges.append((round(image_center[0] + edge_length//2 * math.cos(math.radians(orientation))), round(image_center[1] + edge_length//2 * math.sin(math.radians(orientation)))))\n",
    "\n",
    "    for point in range(polygon_sides-2):\n",
    "        fulcrum=edges[-1]\n",
    "        rotating_point=edges[-2]\n",
    "        new_point=rotated_about(rotating_point[0],rotating_point[1],fulcrum[0],fulcrum[1],math.radians(polygon_angle))\n",
    "        edges.append(new_point)\n",
    "\n",
    "    draw.polygon(edges,fill=200)\n",
    "    \n",
    "    \n",
    "    \n",
    "    \n",
    "    just_oriented_edge = Image.new('L', (image_size, image_size), 127)\n",
    "    draw = ImageDraw.Draw(just_oriented_edge)\n",
    "    draw.polygon(edges[:2],fill=200)\n",
    "\n",
    "    \n",
    "    \n",
    "    surface_oriented_edge = Image.new('RGB', (image_size, image_size), (127,127,127))\n",
    "    draw = ImageDraw.Draw(surface_oriented_edge)\n",
    "    draw.polygon(edges,outline=(255,255,255),fill=(127,127,127))\n",
    "    draw.polygon(edges[:2],fill=(255,0,0))\n",
    "\n",
    "    \n",
    "    return image,just_oriented_edge,surface_oriented_edge\n",
    "    \n",
    "    \n",
    "    "
   ]
  },
  {
   "cell_type": "code",
   "execution_count": 109,
   "id": "6e193e9e-579c-4d1f-9a77-720a37372cc1",
   "metadata": {},
   "outputs": [],
   "source": [
    "sof_image,just_oriented_edge,surface_oriented_edge=get_sof_complete()"
   ]
  },
  {
   "cell_type": "code",
   "execution_count": 110,
   "id": "baa92e33-1f3e-4060-a64c-01a54c539346",
   "metadata": {},
   "outputs": [
    {
     "data": {
      "image/png": "[encoded data removed]",
      "text/plain": [
       "<PIL.Image.Image image mode=L size=32x32>"
      ]
     },
     "execution_count": 110,
     "metadata": {},
     "output_type": "execute_result"
    }
   ],
   "source": [
    "sof_image"
   ]
  },
  {
   "cell_type": "code",
   "execution_count": 111,
   "id": "67c75313-62ce-4773-8e5a-a2a08eb14509",
   "metadata": {},
   "outputs": [
    {
     "data": {
      "image/png": "[encoded data removed]",
      "text/plain": [
       "<PIL.Image.Image image mode=L size=32x32>"
      ]
     },
     "execution_count": 111,
     "metadata": {},
     "output_type": "execute_result"
    }
   ],
   "source": [
    "just_oriented_edge"
   ]
  },
  {
   "cell_type": "code",
   "execution_count": 112,
   "id": "f822c7de-a9f6-44e8-b015-88fbe9d6db93",
   "metadata": {},
   "outputs": [
    {
     "data": {
      "image/png": "[encoded data removed]",
      "text/plain": [
       "<PIL.Image.Image image mode=RGB size=32x32>"
      ]
     },
     "execution_count": 112,
     "metadata": {},
     "output_type": "execute_result"
    }
   ],
   "source": [
    "surface_oriented_edge"
   ]
  },
  {
   "cell_type": "markdown",
   "id": "d0b9b372-57c5-4629-ae7b-9d4fd40670d4",
   "metadata": {},
   "source": [
    "### Bg image with RF marked"
   ]
  },
  {
   "cell_type": "code",
   "execution_count": 113,
   "id": "26d56f32-4cfe-4cb7-af26-51dc89118b52",
   "metadata": {},
   "outputs": [
    {
     "data": {
      "image/png": "[encoded data removed]",
      "text/plain": [
       "<PIL.Image.Image image mode=L size=512x512>"
      ]
     },
     "metadata": {},
     "output_type": "display_data"
    }
   ],
   "source": [
    "bg_image=np.zeros((512,512))\n",
    "\n",
    "\n",
    "top=10\n",
    "bottom=56\n",
    "left=12\n",
    "right=50\n",
    "\n",
    "bg_image[top,left:right]=255.0\n",
    "bg_image[bottom,left:right]=255.0\n",
    "\n",
    "bg_image[top:bottom,left]=255.0\n",
    "bg_image[top:bottom,right]=255.0\n",
    "\n",
    "bg_image=bg_image.astype(np.uint8)\n",
    "display(Image.fromarray(bg_image))"
   ]
  },
  {
   "cell_type": "markdown",
   "id": "12d22f15-7bd6-4fc8-8745-6bac99001d3c",
   "metadata": {},
   "source": [
    "### Embedding the SOF image in the big image"
   ]
  },
  {
   "cell_type": "code",
   "execution_count": 114,
   "id": "079009eb-b654-4f34-ba01-3edaf88d2d88",
   "metadata": {},
   "outputs": [
    {
     "data": {
      "image/png": "[encoded data removed]",
      "text/plain": [
       "<PIL.Image.Image image mode=L size=32x32>"
      ]
     },
     "metadata": {},
     "output_type": "display_data"
    },
    {
     "data": {
      "image/png": "[encoded data removed]",
      "text/plain": [
       "<PIL.Image.Image image mode=L size=512x512>"
      ]
     },
     "execution_count": 114,
     "metadata": {},
     "output_type": "execute_result"
    }
   ],
   "source": [
    "sof_image,_,_=get_sof_complete(readable_orientation=23)\n",
    "display(sof_image)\n",
    "bg_image=np.zeros((512,512))\n",
    "\n",
    "final_image = embed_norm(np.array(sof_image),bg_image, 45 - (sof_image.size[0] // 2), 200 - (sof_image.size[1] // 2))\n",
    "\n",
    "final_image"
   ]
  },
  {
   "cell_type": "markdown",
   "id": "cdc7fb39-2e78-48e2-87da-ed2d5c9900ed",
   "metadata": {},
   "source": [
    "### Just an interactive version of the above"
   ]
  },
  {
   "cell_type": "code",
   "execution_count": 115,
   "id": "1f37ceb4-70a1-457c-9f7c-dbf8f24e6328",
   "metadata": {},
   "outputs": [
    {
     "data": {
      "application/vnd.jupyter.widget-view+json": {
       "model_id": "d960371c0a9745bfab04d4b1f5618ea9",
       "version_major": 2,
       "version_minor": 0
      },
      "text/plain": [
       "interactive(children=(IntSlider(value=32, description='image_size', max=300, min=32, step=2), IntSlider(value=…"
      ]
     },
     "metadata": {},
     "output_type": "display_data"
    }
   ],
   "source": [
    "@interact(image_size=(32,300,2),readable_orientation=(0,90),edge_length=(10,30),polygon_sides=(4,8,1),side_fig=['left','right'],big_image_size=(200,512),\n",
    "         xpos=(100,300),ypos=(100,300))\n",
    "def vis_figure(image_size=32,readable_orientation=45,edge_length=10,polygon_sides=4,side_fig='left',big_image_size=512,xpos=100,ypos=100):\n",
    "    \n",
    "    orientation=360-readable_orientation\n",
    "    image_center=(image_size//2,image_size//2)\n",
    "\n",
    "    if(side_fig=='left'):\n",
    "        polygon_angle=(1)*(180-360//polygon_sides)\n",
    "    elif(side_fig=='right'):\n",
    "        polygon_angle=(-1)*(180-360//polygon_sides)\n",
    "        \n",
    "        \n",
    "    edges=[]\n",
    "    \n",
    "    image = Image.new('L', (image_size, image_size), 0)\n",
    "    draw = ImageDraw.Draw(image)\n",
    "    \n",
    "    \n",
    "    \n",
    "    edges.append((round(image_center[0] + edge_length//2 * math.cos(math.radians(180-orientation))), round(image_center[1] - edge_length//2 * math.sin(math.radians(180-orientation)))))\n",
    "    edges.append((round(image_center[0] + edge_length//2 * math.cos(math.radians(orientation))), round(image_center[1] + edge_length//2 * math.sin(math.radians(orientation)))))\n",
    "\n",
    "    for point in range(polygon_sides-2):\n",
    "        fulcrum=edges[-1]\n",
    "        rotating_point=edges[-2]\n",
    "        new_point=rotated_about(rotating_point[0],rotating_point[1],fulcrum[0],fulcrum[1],math.radians(polygon_angle))\n",
    "        edges.append(new_point)\n",
    "\n",
    "    draw.polygon(edges,fill=255)\n",
    "    display(image)\n",
    "    \n",
    "    \n",
    "    \n",
    "    \n",
    "    bg_image=np.zeros((big_image_size,big_image_size))\n",
    "    \n",
    "    startX=xpos - (image_size//2)\n",
    "    startY=ypos - (image_size//2)\n",
    "    \n",
    "    \n",
    "    ## SOF image\n",
    "    bg_image[startY,startX:startX + image_size]=255\n",
    "    bg_image[startY + image_size,startX:startX + image_size]=255\n",
    "    bg_image[startY:startY + image_size,startX]=255\n",
    "    bg_image[startY:startY + image_size,startX + image_size]=255\n",
    "    \n",
    "    \n",
    "    # final_image = embed_norm(np.array(image),bg_image, xpos, ypos)\n",
    "    final_image = embed_norm(np.array(image),bg_image, startX, startY)\n",
    "    \n",
    "    display(final_image)\n",
    "    \n",
    "    \n",
    "    \n",
    "    "
   ]
  },
  {
   "cell_type": "markdown",
   "id": "4462d438-918f-4145-8874-9e3bc60d1979",
   "metadata": {},
   "source": [
    "# Part B: Load actual RF location and orientation pref tuning for a specific DNN layer"
   ]
  },
  {
   "cell_type": "code",
   "execution_count": 558,
   "id": "3c7c770b-51e7-4b52-a1a2-7041fec7e927",
   "metadata": {},
   "outputs": [
    {
     "data": {
      "text/plain": [
       "(63, 63, 196)"
      ]
     },
     "execution_count": 558,
     "metadata": {},
     "output_type": "execute_result"
    }
   ],
   "source": [
    "orientation_rf_matrix=np.load('./rf_orientatation_values/'+current_layer.replace('.','_') + '.npy')\n",
    "orientation_rf_matrix.shape"
   ]
  },
  {
   "cell_type": "code",
   "execution_count": 563,
   "id": "f1f664d8-99c0-4a80-b1ad-c4941047f067",
   "metadata": {},
   "outputs": [
    {
     "data": {
      "application/vnd.jupyter.widget-view+json": {
       "model_id": "90603b1f8975482289fab571747a69fa",
       "version_major": 2,
       "version_minor": 0
      },
      "text/plain": [
       "interactive(children=(IntSlider(value=31, description='row_pos', max=62), IntSlider(value=31, description='col…"
      ]
     },
     "metadata": {},
     "output_type": "display_data"
    }
   ],
   "source": [
    "@interact(row_pos=(0,orientation_rf_matrix.shape[0]-1),col_pos=(0,orientation_rf_matrix.shape[1]-1))\n",
    "def analytical_rf(row_pos,col_pos):\n",
    "\n",
    "    activation_map=np.zeros((orientation_rf_matrix.shape[0],orientation_rf_matrix.shape[1]))\n",
    "    activation_map[(row_pos,col_pos)]=1.0\n",
    "\n",
    "\n",
    "    plt.figure(figsize=(12,12))\n",
    "    sns.heatmap(activation_map,linewidths=0.01,cbar=False)\n",
    "    \n",
    "    top,bottom,left,right =orientation_rf_matrix[(row_pos,col_pos)][:4].astype(np.int64)"
   ]
  },
  {
   "cell_type": "code",
   "execution_count": 564,
   "id": "c5e4ff7f-6f01-43b6-a4ae-0290f15d7d8f",
   "metadata": {},
   "outputs": [
    {
     "data": {
      "application/vnd.jupyter.widget-view+json": {
       "model_id": "c9734961133244e7a70259e45422a3ca",
       "version_major": 2,
       "version_minor": 0
      },
      "text/plain": [
       "interactive(children=(IntSlider(value=32, description='image_size', max=300, min=32, step=2), IntSlider(value=…"
      ]
     },
     "metadata": {},
     "output_type": "display_data"
    }
   ],
   "source": [
    "@interact(image_size=(32,300,2),readable_orientation=(0,90),edge_length=(10,30),polygon_sides=(4,8,1),side_fig=['left','right'],big_image_size=(200,512),\n",
    "         xpos=(0,300),ypos=(0,300))\n",
    "def vis_figure(image_size=32,readable_orientation=45,edge_length=10,polygon_sides=4,side_fig='left',big_image_size=512,xpos=100,ypos=100):\n",
    "    \n",
    "    row_pos=int(orientation_rf_matrix.shape[0] / 2)\n",
    "    col_pos=int(orientation_rf_matrix.shape[1] / 2)\n",
    "    top,bottom,left,right =orientation_rf_matrix[(row_pos,col_pos)][:4].astype(np.int64)\n",
    "    \n",
    "    \n",
    "    orientation=360-readable_orientation\n",
    "    image_center=(image_size//2,image_size//2)\n",
    "\n",
    "    if(side_fig=='left'):\n",
    "        polygon_angle=(1)*(180-360//polygon_sides)\n",
    "    elif(side_fig=='right'):\n",
    "        polygon_angle=(-1)*(180-360//polygon_sides)\n",
    "        \n",
    "        \n",
    "    edges=[]\n",
    "    \n",
    "    image = Image.new('L', (image_size, image_size), 0)\n",
    "    draw = ImageDraw.Draw(image)\n",
    "    \n",
    "    \n",
    "    \n",
    "    edges.append((round(image_center[0] + edge_length//2 * math.cos(math.radians(180-orientation))), round(image_center[1] - edge_length//2 * math.sin(math.radians(180-orientation)))))\n",
    "    edges.append((round(image_center[0] + edge_length//2 * math.cos(math.radians(orientation))), round(image_center[1] + edge_length//2 * math.sin(math.radians(orientation)))))\n",
    "\n",
    "    for point in range(polygon_sides-2):\n",
    "        fulcrum=edges[-1]\n",
    "        rotating_point=edges[-2]\n",
    "        new_point=rotated_about(rotating_point[0],rotating_point[1],fulcrum[0],fulcrum[1],math.radians(polygon_angle))\n",
    "        edges.append(new_point)\n",
    "\n",
    "    draw.polygon(edges,fill=255)\n",
    "    display(image)\n",
    "    \n",
    "    \n",
    "    \n",
    "    \n",
    "    bg_image=np.zeros((big_image_size,big_image_size))\n",
    "    \n",
    "    startX=xpos - (image_size//2)\n",
    "    startY=ypos - (image_size//2)\n",
    "    \n",
    "    \n",
    "    ## SOF image locations\n",
    "    bg_image[startY,startX:startX + image_size]=255\n",
    "    bg_image[startY + image_size,startX:startX + image_size]=255\n",
    "    bg_image[startY:startY + image_size,startX]=255\n",
    "    bg_image[startY:startY + image_size,startX + image_size]=255\n",
    "    \n",
    "    ## RF LOCATIONS\n",
    "    bg_image[top,left:right]=255\n",
    "    bg_image[bottom,left:right]=255.0\n",
    "\n",
    "    bg_image[top:bottom,left]=255.0\n",
    "    bg_image[top:bottom,right]=255.0\n",
    "    \n",
    "    \n",
    "    # final_image = embed_norm(np.array(image),bg_image, xpos, ypos)\n",
    "    final_image = embed_norm(np.array(image),bg_image, startX, startY)\n",
    "    \n",
    "    display(final_image)\n",
    "    \n",
    "    \n",
    "    \n",
    "    "
   ]
  },
  {
   "cell_type": "markdown",
   "id": "121957f3-1dce-49b5-b6ec-161c2ea16b26",
   "metadata": {},
   "source": [
    "### just extra"
   ]
  },
  {
   "cell_type": "code",
   "execution_count": 578,
   "id": "de44355e-c219-4de0-ab8e-a5384807e684",
   "metadata": {},
   "outputs": [
    {
     "data": {
      "application/vnd.jupyter.widget-view+json": {
       "model_id": "19842105a4df4fee90d2000e6b27de6f",
       "version_major": 2,
       "version_minor": 0
      },
      "text/plain": [
       "interactive(children=(IntSlider(value=31, description='row_pos', max=62), IntSlider(value=31, description='col…"
      ]
     },
     "metadata": {},
     "output_type": "display_data"
    }
   ],
   "source": [
    "@interact(row_pos=(0,orientation_rf_matrix.shape[0]-1),col_pos=(0,orientation_rf_matrix.shape[1]-1))\n",
    "def analytical_rf(row_pos,col_pos):\n",
    "\n",
    "    activation_map=np.zeros((orientation_rf_matrix.shape[0],orientation_rf_matrix.shape[1]))\n",
    "    activation_map[(row_pos,col_pos)]=1.0\n",
    "\n",
    "\n",
    "    plt.figure(figsize=(4,4))\n",
    "    sns.heatmap(activation_map,linewidths=0.0,cbar=False)\n",
    "    \n",
    "    top,bottom,left,right =orientation_rf_matrix[(row_pos,col_pos)][:4].astype(np.int64)"
   ]
  },
  {
   "cell_type": "code",
   "execution_count": 581,
   "id": "e5d49d9b-a3c5-4b2d-8863-c10fa589ae4a",
   "metadata": {},
   "outputs": [
    {
     "data": {
      "application/vnd.jupyter.widget-view+json": {
       "model_id": "2e6df4925c094d4bab4cbbbb3f436475",
       "version_major": 2,
       "version_minor": 0
      },
      "text/plain": [
       "interactive(children=(IntSlider(value=32, description='image_size', max=300, min=32, step=2), IntSlider(value=…"
      ]
     },
     "metadata": {},
     "output_type": "display_data"
    }
   ],
   "source": [
    "@interact(image_size=(32,300,2),readable_orientation=(0,90),edge_length=(10,30),polygon_sides=(4,8,1),side_fig=['left','right'],big_image_size=(200,512),\n",
    "         xpos=(0,300),ypos=(0,300))\n",
    "def vis_figure(image_size=32,readable_orientation=45,edge_length=10,polygon_sides=4,side_fig='left',big_image_size=512,xpos=100,ypos=100):\n",
    "    \n",
    "    row_pos=46\n",
    "    col_pos=46\n",
    "    top,bottom,left,right =orientation_rf_matrix[(row_pos,col_pos)][:4].astype(np.int64)\n",
    "    \n",
    "    \n",
    "    orientation=360-readable_orientation\n",
    "    image_center=(image_size//2,image_size//2)\n",
    "\n",
    "    if(side_fig=='left'):\n",
    "        polygon_angle=(1)*(180-360//polygon_sides)\n",
    "    elif(side_fig=='right'):\n",
    "        polygon_angle=(-1)*(180-360//polygon_sides)\n",
    "        \n",
    "        \n",
    "    edges=[]\n",
    "    \n",
    "    image = Image.new('L', (image_size, image_size), 0)\n",
    "    draw = ImageDraw.Draw(image)\n",
    "    \n",
    "    \n",
    "    \n",
    "    edges.append((round(image_center[0] + edge_length//2 * math.cos(math.radians(180-orientation))), round(image_center[1] - edge_length//2 * math.sin(math.radians(180-orientation)))))\n",
    "    edges.append((round(image_center[0] + edge_length//2 * math.cos(math.radians(orientation))), round(image_center[1] + edge_length//2 * math.sin(math.radians(orientation)))))\n",
    "\n",
    "    for point in range(polygon_sides-2):\n",
    "        fulcrum=edges[-1]\n",
    "        rotating_point=edges[-2]\n",
    "        new_point=rotated_about(rotating_point[0],rotating_point[1],fulcrum[0],fulcrum[1],math.radians(polygon_angle))\n",
    "        edges.append(new_point)\n",
    "\n",
    "    # draw.polygon(edges,fill=255)\n",
    "    # display(image)\n",
    "    \n",
    "    \n",
    "    \n",
    "    \n",
    "    bg_image=np.zeros((big_image_size,big_image_size))\n",
    "    \n",
    "    startX=xpos - (image_size//2)\n",
    "    startY=ypos - (image_size//2)\n",
    "    \n",
    "    \n",
    "    ## SOF image locations\n",
    "    # bg_image[startY,startX:startX + image_size]=255\n",
    "    # bg_image[startY + image_size,startX:startX + image_size]=255\n",
    "    # bg_image[startY:startY + image_size,startX]=255\n",
    "    # bg_image[startY:startY + image_size,startX + image_size]=255\n",
    "    \n",
    "    ## RF LOCATIONS\n",
    "    bg_image[top,left:right]=255\n",
    "    bg_image[bottom,left:right]=255.0\n",
    "\n",
    "    bg_image[top:bottom,left]=255.0\n",
    "    bg_image[top:bottom,right]=255.0\n",
    "    \n",
    "    \n",
    "    # final_image = embed_norm(np.array(image),bg_image, xpos, ypos)\n",
    "    final_image = embed_norm(np.array(image),bg_image, startX, startY)\n",
    "    \n",
    "    display(final_image)\n",
    "    \n",
    "    \n",
    "    \n",
    "    "
   ]
  },
  {
   "cell_type": "code",
   "execution_count": null,
   "id": "bc8e2776-e716-4a91-8fe3-43ffaec7cac8",
   "metadata": {},
   "outputs": [],
   "source": []
  },
  {
   "cell_type": "code",
   "execution_count": null,
   "id": "9adf615a-d90a-4445-88b9-cb54a6eebb61",
   "metadata": {},
   "outputs": [],
   "source": []
  },
  {
   "cell_type": "code",
   "execution_count": null,
   "id": "ec0e65b0-0069-4c4c-83b1-498c08dd022b",
   "metadata": {},
   "outputs": [],
   "source": []
  },
  {
   "cell_type": "markdown",
   "id": "0844a775-90cb-4a4e-ae6b-40c4c4bbd799",
   "metadata": {},
   "source": [
    "### Adding the SOF systematically within the RF, orientation can be changed manually but will show the distribution of orientation preferences"
   ]
  },
  {
   "cell_type": "code",
   "execution_count": 582,
   "id": "4c5d3d22-7ccd-423f-bbde-8752bc7bb4f6",
   "metadata": {},
   "outputs": [
    {
     "data": {
      "application/vnd.jupyter.widget-view+json": {
       "model_id": "98875605f54146daa96423a9844162ec",
       "version_major": 2,
       "version_minor": 0
      },
      "text/plain": [
       "interactive(children=(IntSlider(value=31, description='row_pos', max=62), IntSlider(value=31, description='col…"
      ]
     },
     "metadata": {},
     "output_type": "display_data"
    }
   ],
   "source": [
    "@interact(row_pos=(0,orientation_rf_matrix.shape[0]-1),col_pos=(0,orientation_rf_matrix.shape[1]-1),multiplier_image_size=(1.0,4.0,0.5),multiplier_surface_size=(2.0,5.0,0.5))\n",
    "def analytical_rf(row_pos,col_pos,multiplier_image_size=2.5,multiplier_surface_size=4.0):\n",
    "\n",
    "    activation_map=np.zeros((orientation_rf_matrix.shape[0],orientation_rf_matrix.shape[1]))\n",
    "    activation_map[(row_pos,col_pos)]=1.0\n",
    "\n",
    "\n",
    "    plt.figure(figsize=(12,12))\n",
    "    sns.heatmap(activation_map,linewidths=0.01,cbar=False)\n",
    "    plt.show()\n",
    "    \n",
    "    top,bottom,left,right =orientation_rf_matrix[(row_pos,col_pos)][:4].astype(np.int64)\n",
    "    filter_otientatation_pref=orientation_rf_matrix[(row_pos,col_pos)][4:]\n",
    "    \n",
    "    \n",
    "    plt.figure(figsize=(10,4))\n",
    "    plt.hist(filter_otientatation_pref, bins=90, range=(0,180), alpha=0.5)\n",
    "    plt.show()\n",
    "    \n",
    "    print(top,bottom,left,right)\n",
    "    \n",
    "    if(top==512):\n",
    "        top-=1\n",
    "    \n",
    "    if(bottom==512):\n",
    "        bottom-=1\n",
    "    \n",
    "    if(left==512):\n",
    "        left-=1\n",
    "    \n",
    "    if(right==512):\n",
    "        right-=1\n",
    "    \n",
    "    \n",
    "\n",
    "    @interact(image_size=(32,300,2),readable_orientation=(0,90),edge_length=(10,100),polygon_sides=(4,8,1),side_fig=['left','right'],big_image_size=(200,512),xpos=(0,512),ypos=(0,512))\n",
    "    def vis_figure(image_size=int((bottom-top)*multiplier_image_size),\n",
    "                   readable_orientation=45,edge_length=10*multiplier_surface_size,\n",
    "                   polygon_sides=4,side_fig='left',big_image_size=512,\n",
    "                   ypos=top + (bottom-top)/2 ,xpos=left + (right-left)/2):\n",
    "\n",
    "        orientation=360-readable_orientation\n",
    "        image_center=(image_size//2,image_size//2)\n",
    "\n",
    "        if(side_fig=='left'):\n",
    "            polygon_angle=(1)*(180-360//polygon_sides)\n",
    "        elif(side_fig=='right'):\n",
    "            polygon_angle=(-1)*(180-360//polygon_sides)\n",
    "\n",
    "\n",
    "        edges=[]\n",
    "\n",
    "        image = Image.new('L', (image_size, image_size), 0)\n",
    "        draw = ImageDraw.Draw(image)\n",
    "\n",
    "\n",
    "\n",
    "        edges.append((round(image_center[0] + edge_length//2 * math.cos(math.radians(180-orientation))), round(image_center[1] - edge_length//2 * math.sin(math.radians(180-orientation)))))\n",
    "        edges.append((round(image_center[0] + edge_length//2 * math.cos(math.radians(orientation))), round(image_center[1] + edge_length//2 * math.sin(math.radians(orientation)))))\n",
    "\n",
    "        for point in range(polygon_sides-2):\n",
    "            fulcrum=edges[-1]\n",
    "            rotating_point=edges[-2]\n",
    "            new_point=rotated_about(rotating_point[0],rotating_point[1],fulcrum[0],fulcrum[1],math.radians(polygon_angle))\n",
    "            edges.append(new_point)\n",
    "\n",
    "        draw.polygon(edges,fill=255)\n",
    "        display(image)\n",
    "\n",
    "\n",
    "\n",
    "\n",
    "        bg_image=np.zeros((big_image_size,big_image_size))\n",
    "\n",
    "        startX=int(xpos - (image_size//2))\n",
    "        startY=int(ypos - (image_size//2))\n",
    "        assert startX>0 and startY>0\n",
    "\n",
    "\n",
    "        ## SOF image locations\n",
    "        bg_image[startY,startX:startX + image_size]=255\n",
    "        bg_image[startY + image_size,startX:startX + image_size]=255\n",
    "        bg_image[startY:startY + image_size,startX]=255\n",
    "        bg_image[startY:startY + image_size,startX + image_size]=255\n",
    "\n",
    "        ## RF LOCATIONS\n",
    "        bg_image[top,left:right]=255\n",
    "        bg_image[bottom,left:right]=255.0\n",
    "\n",
    "        bg_image[top:bottom,left]=255.0\n",
    "        bg_image[top:bottom,right]=255.0\n",
    "\n",
    "\n",
    "        # final_image = embed_norm(np.array(image),bg_image, xpos, ypos)\n",
    "        final_image = embed_norm(np.array(image),bg_image, startX, startY)\n",
    "\n",
    "        display(final_image)\n",
    "    \n",
    "    \n",
    "    \n",
    "    "
   ]
  },
  {
   "cell_type": "markdown",
   "id": "55dfba21-bce9-480b-8b99-f7cbcf822a40",
   "metadata": {},
   "source": [
    "### Only fill classical RF region"
   ]
  },
  {
   "cell_type": "code",
   "execution_count": 562,
   "id": "4b345e79-949c-4dc1-b56c-b7bb70d0b852",
   "metadata": {},
   "outputs": [
    {
     "data": {
      "application/vnd.jupyter.widget-view+json": {
       "model_id": "79cf0db1f1c34c98a6d0070607d84991",
       "version_major": 2,
       "version_minor": 0
      },
      "text/plain": [
       "interactive(children=(IntSlider(value=31, description='row_pos', max=62), IntSlider(value=31, description='col…"
      ]
     },
     "metadata": {},
     "output_type": "display_data"
    }
   ],
   "source": [
    "@interact(row_pos=(0,orientation_rf_matrix.shape[0]-1),col_pos=(0,orientation_rf_matrix.shape[1]-1),multiplier_image_size=(1.0,4.0,0.5),multiplier_surface_size=(2.0,5.0,0.5))\n",
    "def analytical_rf(row_pos,col_pos,multiplier_image_size=2.5,multiplier_surface_size=4.0):\n",
    "\n",
    "    activation_map=np.zeros((orientation_rf_matrix.shape[0],orientation_rf_matrix.shape[1]))\n",
    "    activation_map[(row_pos,col_pos)]=1.0\n",
    "\n",
    "\n",
    "    plt.figure(figsize=(12,12))\n",
    "    sns.heatmap(activation_map,linewidths=0.01,cbar=False)\n",
    "    plt.show()\n",
    "    \n",
    "    top,bottom,left,right =orientation_rf_matrix[(row_pos,col_pos)][:4].astype(np.int64)\n",
    "    filter_otientatation_pref=orientation_rf_matrix[(row_pos,col_pos)][4:]\n",
    "    \n",
    "    \n",
    "    plt.figure(figsize=(10,4))\n",
    "    plt.hist(filter_otientatation_pref, bins=90, range=(0,180), alpha=0.5)\n",
    "    plt.show()\n",
    "    \n",
    "    print(top,bottom,left,right)\n",
    "    \n",
    "    if(top==512):\n",
    "        top-=1\n",
    "    \n",
    "    if(bottom==512):\n",
    "        bottom-=1\n",
    "    \n",
    "    if(left==512):\n",
    "        left-=1\n",
    "    \n",
    "    if(right==512):\n",
    "        right-=1\n",
    "    \n",
    "    \n",
    "\n",
    "    @interact(image_size=(32,300,2),readable_orientation=(0,90),edge_length=(10,100),polygon_sides=(4,8,1),side_fig=['left','right'],big_image_size=(200,512),xpos=(0,512),ypos=(0,512))\n",
    "    def vis_figure(image_size=int((bottom-top)*multiplier_image_size),\n",
    "                   readable_orientation=45,edge_length=10*multiplier_surface_size,\n",
    "                   polygon_sides=4,side_fig='left',big_image_size=512,\n",
    "                   ypos=top + (bottom-top)/2 ,xpos=left + (right-left)/2):\n",
    "\n",
    "        orientation=360-readable_orientation\n",
    "        image_center=(image_size//2,image_size//2)\n",
    "\n",
    "        if(side_fig=='left'):\n",
    "            polygon_angle=(1)*(180-360//polygon_sides)\n",
    "        elif(side_fig=='right'):\n",
    "            polygon_angle=(-1)*(180-360//polygon_sides)\n",
    "\n",
    "\n",
    "        edges=[]\n",
    "\n",
    "        image = Image.new('L', (image_size, image_size), 0)\n",
    "        draw = ImageDraw.Draw(image)\n",
    "\n",
    "\n",
    "\n",
    "        edges.append((round(image_center[0] + edge_length//2 * math.cos(math.radians(180-orientation))), round(image_center[1] - edge_length//2 * math.sin(math.radians(180-orientation)))))\n",
    "        edges.append((round(image_center[0] + edge_length//2 * math.cos(math.radians(orientation))), round(image_center[1] + edge_length//2 * math.sin(math.radians(orientation)))))\n",
    "\n",
    "        for point in range(polygon_sides-2):\n",
    "            fulcrum=edges[-1]\n",
    "            rotating_point=edges[-2]\n",
    "            new_point=rotated_about(rotating_point[0],rotating_point[1],fulcrum[0],fulcrum[1],math.radians(polygon_angle))\n",
    "            edges.append(new_point)\n",
    "\n",
    "        draw.polygon(edges,fill=255)\n",
    "        display(image)\n",
    "\n",
    "\n",
    "\n",
    "        \n",
    "        ############################################################\n",
    "        bg_image=np.zeros((big_image_size,big_image_size))\n",
    "\n",
    "        startX=int(xpos - (image_size//2))\n",
    "        startY=int(ypos - (image_size//2))\n",
    "        assert startX>0 and startY>0\n",
    "\n",
    "\n",
    "        ## SOF image locations\n",
    "        bg_image[startY,startX:startX + image_size]=255\n",
    "        bg_image[startY + image_size,startX:startX + image_size]=255\n",
    "        bg_image[startY:startY + image_size,startX]=255\n",
    "        bg_image[startY:startY + image_size,startX + image_size]=255\n",
    "\n",
    "        # RF LOCATIONS\n",
    "        bg_image[top,left:right]=255\n",
    "        bg_image[bottom,left:right]=255.0\n",
    "\n",
    "        bg_image[top:bottom,left]=255.0\n",
    "        bg_image[top:bottom,right]=255.0\n",
    "        final_image = embed_norm(np.array(image),bg_image, startX, startY)\n",
    "        display(final_image)\n",
    "        ############################################################\n",
    "        \n",
    "\n",
    "        \n",
    "        \n",
    "        \n",
    "        ############################################################\n",
    "        bg_image=np.zeros((big_image_size,big_image_size))\n",
    "\n",
    "        startX=int(xpos - (image_size//2))\n",
    "        startY=int(ypos - (image_size//2))\n",
    "        assert startX>0 and startY>0\n",
    "        \n",
    "        \n",
    "        # RF LOCATIONS\n",
    "        bg_image[top,left:right]=255\n",
    "        bg_image[bottom,left:right]=255.0\n",
    "\n",
    "        bg_image[top:bottom,left]=255.0\n",
    "        bg_image[top:bottom,right]=255.0\n",
    "        \n",
    "        final_image = embed_norm(np.array(image),bg_image, startX, startY)\n",
    "        display(final_image)\n",
    "        ############################################################\n",
    "        \n",
    "        \n",
    "        \n",
    "        ############################################################\n",
    "        bg_image=np.zeros((big_image_size,big_image_size))\n",
    "\n",
    "        startX=int(xpos - (image_size//2))\n",
    "        startY=int(ypos - (image_size//2))\n",
    "        assert startX>0 and startY>0\n",
    "        \n",
    "        final_image = embed_norm(np.array(image),bg_image, startX, startY)\n",
    "        display(final_image)\n",
    "        ############################################################\n",
    "        \n",
    "        \n",
    "        \n",
    "        ############################################################\n",
    "        bg_image=np.zeros((big_image_size,big_image_size))\n",
    "\n",
    "        startX=int(xpos - (image_size//2))\n",
    "        startY=int(ypos - (image_size//2))\n",
    "        assert startX>0 and startY>0\n",
    "        \n",
    "        rf_mask=np.zeros((big_image_size,big_image_size))\n",
    "        rf_mask[top:bottom,left:right]=1.0\n",
    "        final_image = embed_norm_mask(np.array(image),bg_image, startX, startY,rf_mask)\n",
    "        display(final_image)\n",
    "        ############################################################\n",
    "\n",
    "        \n",
    "\n",
    "    \n",
    "    \n",
    "    \n",
    "    "
   ]
  },
  {
   "cell_type": "markdown",
   "id": "aa8c5801-5489-46a0-a670-62fe2ff36f53",
   "metadata": {},
   "source": [
    "# Using the above to make stimuli for all the channels after selecting a specific position"
   ]
  },
  {
   "cell_type": "markdown",
   "id": "da9b5e42-b698-43bf-93c1-0c03de274464",
   "metadata": {},
   "source": [
    "### For one example unit and one filter/orientation value"
   ]
  },
  {
   "cell_type": "code",
   "execution_count": 127,
   "id": "cd5b9b52-9ba4-445f-a774-716d593b1b68",
   "metadata": {},
   "outputs": [],
   "source": [
    "row_pos=int(orientation_rf_matrix.shape[0] / 2)\n",
    "col_pos=int(orientation_rf_matrix.shape[1] / 2)\n",
    "filter_val=3"
   ]
  },
  {
   "cell_type": "code",
   "execution_count": 128,
   "id": "25e95a91-b769-44b9-be35-07a632a37b79",
   "metadata": {},
   "outputs": [
    {
     "data": {
      "image/png": "[encoded data removed]",
      "text/plain": [
       "<PIL.Image.Image image mode=L size=512x512>"
      ]
     },
     "metadata": {},
     "output_type": "display_data"
    }
   ],
   "source": [
    "top,bottom,left,right =orientation_rf_matrix[(row_pos,col_pos)][:4].astype(np.int64)\n",
    "readable_orientation=orientation_rf_matrix[(row_pos,col_pos)][4:][filter_val]\n",
    "\n",
    "orientation=360-readable_orientation\n",
    "image_size=int((bottom-top)*2.5)\n",
    "edge_length=40\n",
    "polygon_sides=4\n",
    "side_fig='right'\n",
    "big_image_size=512\n",
    "ypos=top + (bottom-top)/2 \n",
    "xpos=left + (right-left)/2\n",
    "\n",
    "\n",
    "\n",
    "orientation=360-readable_orientation\n",
    "image_center=(image_size//2,image_size//2)\n",
    "\n",
    "if(side_fig=='left'):\n",
    "    polygon_angle=(1)*(180-360//polygon_sides)\n",
    "elif(side_fig=='right'):\n",
    "    polygon_angle=(-1)*(180-360//polygon_sides)\n",
    "\n",
    "\n",
    "edges=[]\n",
    "\n",
    "image = Image.new('L', (image_size, image_size), 0)\n",
    "draw = ImageDraw.Draw(image)\n",
    "\n",
    "\n",
    "\n",
    "edges.append((round(image_center[0] + edge_length//2 * math.cos(math.radians(180-orientation))), round(image_center[1] - edge_length//2 * math.sin(math.radians(180-orientation)))))\n",
    "edges.append((round(image_center[0] + edge_length//2 * math.cos(math.radians(orientation))), round(image_center[1] + edge_length//2 * math.sin(math.radians(orientation)))))\n",
    "\n",
    "for point in range(polygon_sides-2):\n",
    "    fulcrum=edges[-1]\n",
    "    rotating_point=edges[-2]\n",
    "    new_point=rotated_about(rotating_point[0],rotating_point[1],fulcrum[0],fulcrum[1],math.radians(polygon_angle))\n",
    "    edges.append(new_point)\n",
    "\n",
    "draw.polygon(edges,fill=255)\n",
    "\n",
    "\n",
    "\n",
    "bg_image=np.zeros((big_image_size,big_image_size))\n",
    "\n",
    "startX=int(xpos - (image_size//2))\n",
    "startY=int(ypos - (image_size//2))\n",
    "\n",
    "assert startX>0 and startY>0\n",
    "\n",
    "# final_image = embed_norm(np.array(image),bg_image, xpos, ypos)\n",
    "final_image = embed_norm(np.array(image),bg_image, startX, startY)\n",
    "\n",
    "display(final_image)"
   ]
  },
  {
   "cell_type": "markdown",
   "id": "30f7134a-88e4-4ebc-b580-664106e07c90",
   "metadata": {},
   "source": [
    "### images for all filters and all positions - this seems a lot of images though so cancel for now"
   ]
  },
  {
   "cell_type": "code",
   "execution_count": 129,
   "id": "7efc3a5b-0a56-49fa-9efd-90aa33a7006b",
   "metadata": {},
   "outputs": [],
   "source": [
    "# all_left_images=[]\n",
    "# all_right_images=[]\n",
    "\n",
    "# for readable_orientation in tqdm(orientation_rf_matrix[0,0,4:]):\n",
    "#     all_left_images_currentorient=[]\n",
    "#     all_right_images_currentorient=[]\n",
    "    \n",
    "#     for row_pos in range(orientation_rf_matrix.shape[0]):\n",
    "#         for col_pos in range(orientation_rf_matrix.shape[1]):\n",
    "            \n",
    "#             top,bottom,left,right =orientation_rf_matrix[(row_pos,col_pos)][:4].astype(np.int64)\n",
    "    \n",
    "\n",
    "#             orientation=360-readable_orientation\n",
    "#             image_size=int((bottom-top)*2.5)\n",
    "#             edge_length=10 * 4.0\n",
    "#             polygon_sides=4\n",
    "\n",
    "#             big_image_size=512\n",
    "#             ypos=top + (bottom-top)/2 \n",
    "#             xpos=left + (right-left)/2\n",
    "\n",
    "\n",
    "#             image_center=(image_size//2,image_size//2)\n",
    "            \n",
    "            \n",
    "            \n",
    "            \n",
    "#             try:\n",
    "#                 startX=int(xpos - (image_size//2))\n",
    "#                 startY=int(ypos - (image_size//2))\n",
    "#                 assert startX>0 and startY>0\n",
    "                \n",
    "                \n",
    "#                 ########################################################################################################################\n",
    "#                 side_fig='left'\n",
    "#                 if(side_fig=='left'):\n",
    "#                     polygon_angle=(1)*(180-360//polygon_sides)\n",
    "#                 elif(side_fig=='right'):\n",
    "#                     polygon_angle=(-1)*(180-360//polygon_sides)\n",
    "\n",
    "\n",
    "                \n",
    "#                 image = Image.new('L', (image_size, image_size), 0)\n",
    "#                 draw = ImageDraw.Draw(image)\n",
    "\n",
    "\n",
    "#                 edges=[]\n",
    "#                 edges.append((round(image_center[0] + edge_length//2 * math.cos(math.radians(180-orientation))), round(image_center[1] - edge_length//2 * math.sin(math.radians(180-orientation)))))\n",
    "#                 edges.append((round(image_center[0] + edge_length//2 * math.cos(math.radians(orientation))), round(image_center[1] + edge_length//2 * math.sin(math.radians(orientation)))))\n",
    "#                 for point in range(polygon_sides-2):\n",
    "#                     fulcrum=edges[-1]\n",
    "#                     rotating_point=edges[-2]\n",
    "#                     new_point=rotated_about(rotating_point[0],rotating_point[1],fulcrum[0],fulcrum[1],math.radians(polygon_angle))\n",
    "#                     edges.append(new_point)\n",
    "#                 draw.polygon(edges,fill=255)\n",
    "#                 bg_image=np.zeros((big_image_size,big_image_size))\n",
    "\n",
    "#                 left_image = embed_norm(np.array(image),bg_image, startX, startY)\n",
    "#                 all_left_images_currentorient.append(left_image)\n",
    "#                 ########################################################################################################################\n",
    "                \n",
    "#                 ########################################################################################################################\n",
    "#                 side_fig='right'\n",
    "#                 if(side_fig=='left'):\n",
    "#                     polygon_angle=(1)*(180-360//polygon_sides)\n",
    "#                 elif(side_fig=='right'):\n",
    "#                     polygon_angle=(-1)*(180-360//polygon_sides)\n",
    "\n",
    "\n",
    "                \n",
    "#                 image = Image.new('L', (image_size, image_size), 0)\n",
    "#                 draw = ImageDraw.Draw(image)\n",
    "\n",
    "\n",
    "#                 edges=[]\n",
    "#                 edges.append((round(image_center[0] + edge_length//2 * math.cos(math.radians(180-orientation))), round(image_center[1] - edge_length//2 * math.sin(math.radians(180-orientation)))))\n",
    "#                 edges.append((round(image_center[0] + edge_length//2 * math.cos(math.radians(orientation))), round(image_center[1] + edge_length//2 * math.sin(math.radians(orientation)))))\n",
    "#                 for point in range(polygon_sides-2):\n",
    "#                     fulcrum=edges[-1]\n",
    "#                     rotating_point=edges[-2]\n",
    "#                     new_point=rotated_about(rotating_point[0],rotating_point[1],fulcrum[0],fulcrum[1],math.radians(polygon_angle))\n",
    "#                     edges.append(new_point)\n",
    "#                 draw.polygon(edges,fill=255)\n",
    "#                 bg_image=np.zeros((big_image_size,big_image_size))\n",
    "\n",
    "#                 right_image = embed_norm(np.array(image),bg_image, startX, startY)\n",
    "#                 all_right_images_currentorient.append(right_image)\n",
    "#                 ########################################################################################################################\n",
    "                \n",
    "#             except AssertionError:\n",
    "#                 pass\n",
    "            \n",
    "\n",
    "#     all_left_images.append(all_left_images_currentorient)\n",
    "#     all_right_images.append(all_right_images_currentorient)"
   ]
  },
  {
   "cell_type": "markdown",
   "id": "95cd292f-58da-4215-90e9-4aa5a8bf8625",
   "metadata": {},
   "source": [
    "# Let's instead focus on just one unit position but all orientations"
   ]
  },
  {
   "cell_type": "code",
   "execution_count": 130,
   "id": "345b204c-d288-4a9a-819e-f209934034e1",
   "metadata": {},
   "outputs": [
    {
     "data": {
      "application/vnd.jupyter.widget-view+json": {
       "model_id": "5350cc864ae54fbcb36781c9e45ea72b",
       "version_major": 2,
       "version_minor": 0
      },
      "text/plain": [
       "interactive(children=(IntSlider(value=31, description='row_pos', max=62), IntSlider(value=31, description='col…"
      ]
     },
     "metadata": {},
     "output_type": "display_data"
    }
   ],
   "source": [
    "global_row_pos=None\n",
    "global_col_pos=None\n",
    "@interact(row_pos=(0,orientation_rf_matrix.shape[0]-1),col_pos=(0,orientation_rf_matrix.shape[0]-1))\n",
    "def analytical_rf(row_pos,col_pos,multiplier_image_size=1.0,multiplier_surface_size=2.0):\n",
    "    global global_row_pos\n",
    "    global global_col_pos\n",
    "    activation_map=np.zeros((orientation_rf_matrix.shape[0],orientation_rf_matrix.shape[1]))\n",
    "    activation_map[(row_pos,col_pos)]=1.0\n",
    "\n",
    "\n",
    "    plt.figure(figsize=(12,12))\n",
    "    sns.heatmap(activation_map,linewidths=0.01,cbar=False)\n",
    "    plt.show()\n",
    "    \n",
    "    global_row_pos=row_pos\n",
    "    global_col_pos=col_pos"
   ]
  },
  {
   "cell_type": "code",
   "execution_count": 175,
   "id": "e0ed425f-84e5-445c-8c9f-0ac62021d9a2",
   "metadata": {},
   "outputs": [
    {
     "name": "stdout",
     "output_type": "stream",
     "text": [
      "36\n",
      "24\n"
     ]
    }
   ],
   "source": [
    "print(global_row_pos)\n",
    "print(global_col_pos)"
   ]
  },
  {
   "cell_type": "code",
   "execution_count": 176,
   "id": "b580d937-f203-46ce-ad48-935df9a0e1d4",
   "metadata": {},
   "outputs": [
    {
     "data": {
      "application/vnd.jupyter.widget-view+json": {
       "model_id": "6509c4702c65423c8c493f9336959d2b",
       "version_major": 2,
       "version_minor": 0
      },
      "text/plain": [
       "  0%|          | 0/192 [00:00<?, ?it/s]"
      ]
     },
     "metadata": {},
     "output_type": "display_data"
    },
    {
     "name": "stderr",
     "output_type": "stream",
     "text": [
      "/opt/conda/lib/python3.7/site-packages/ipykernel_launcher.py:106: FutureWarning: The input object of type 'Image' is an array-like implementing one of the corresponding protocols (`__array__`, `__array_interface__` or `__array_struct__`); but not a sequence (or 0-D). In the future, this object will be coerced as if it was first converted using `np.array(obj)`. To retain the old behaviour, you have to either modify the type 'Image', or assign to an empty array created with `np.empty(correct_shape, dtype=object)`.\n",
      "/opt/conda/lib/python3.7/site-packages/ipykernel_launcher.py:106: VisibleDeprecationWarning: Creating an ndarray from ragged nested sequences (which is a list-or-tuple of lists-or-tuples-or ndarrays with different lengths or shapes) is deprecated. If you meant to do this, you must specify 'dtype=object' when creating the ndarray.\n"
     ]
    }
   ],
   "source": [
    "all_images=[]\n",
    "\n",
    "for readable_orientation in tqdm(orientation_rf_matrix[0,0,4:]):\n",
    "    top,bottom,left,right =orientation_rf_matrix[(global_row_pos,global_col_pos)][:4].astype(np.int64)\n",
    "    \n",
    "\n",
    "    orientation=360-readable_orientation\n",
    "    image_size=int((bottom-top)*2.5)\n",
    "    edge_length=10 * 4.0\n",
    "    polygon_sides=4\n",
    "    \n",
    "    big_image_size=512\n",
    "    ypos=top + (bottom-top)/2 \n",
    "    xpos=left + (right-left)/2\n",
    "\n",
    "\n",
    "\n",
    "\n",
    "    image_center=(image_size//2,image_size//2)\n",
    "    \n",
    "    ##########################################################################################\n",
    "    ##### Left image\n",
    "    side_fig='left'\n",
    "    if(side_fig=='left'):\n",
    "        polygon_angle=(1)*(180-360//polygon_sides)\n",
    "    elif(side_fig=='right'):\n",
    "        polygon_angle=(-1)*(180-360//polygon_sides)\n",
    "\n",
    "\n",
    "    edges=[]\n",
    "\n",
    "    image = Image.new('L', (image_size, image_size), 0)\n",
    "    draw = ImageDraw.Draw(image)\n",
    "\n",
    "\n",
    "\n",
    "    edges.append((round(image_center[0] + edge_length//2 * math.cos(math.radians(180-orientation))), round(image_center[1] - edge_length//2 * math.sin(math.radians(180-orientation)))))\n",
    "    edges.append((round(image_center[0] + edge_length//2 * math.cos(math.radians(orientation))), round(image_center[1] + edge_length//2 * math.sin(math.radians(orientation)))))\n",
    "\n",
    "    for point in range(polygon_sides-2):\n",
    "        fulcrum=edges[-1]\n",
    "        rotating_point=edges[-2]\n",
    "        new_point=rotated_about(rotating_point[0],rotating_point[1],fulcrum[0],fulcrum[1],math.radians(polygon_angle))\n",
    "        edges.append(new_point)\n",
    "\n",
    "    draw.polygon(edges,fill=255)\n",
    "\n",
    "\n",
    "\n",
    "    bg_image=np.zeros((big_image_size,big_image_size))\n",
    "\n",
    "    startX=int(xpos - (image_size//2))\n",
    "    startY=int(ypos - (image_size//2))\n",
    "    assert startX>0 and startY>0\n",
    "\n",
    "    # final_image = embed_norm(np.array(image),bg_image, xpos, ypos)\n",
    "    left_final_image = embed_norm(np.array(image),bg_image, startX, startY)\n",
    "    ##########################################################################################\n",
    "    \n",
    "    \n",
    "    ##########################################################################################\n",
    "    ##### Right image\n",
    "    side_fig='right'\n",
    "    if(side_fig=='left'):\n",
    "        polygon_angle=(1)*(180-360//polygon_sides)\n",
    "    elif(side_fig=='right'):\n",
    "        polygon_angle=(-1)*(180-360//polygon_sides)\n",
    "\n",
    "\n",
    "    edges=[]\n",
    "\n",
    "    image = Image.new('L', (image_size, image_size), 0)\n",
    "    draw = ImageDraw.Draw(image)\n",
    "\n",
    "\n",
    "\n",
    "    edges.append((round(image_center[0] + edge_length//2 * math.cos(math.radians(180-orientation))), round(image_center[1] - edge_length//2 * math.sin(math.radians(180-orientation)))))\n",
    "    edges.append((round(image_center[0] + edge_length//2 * math.cos(math.radians(orientation))), round(image_center[1] + edge_length//2 * math.sin(math.radians(orientation)))))\n",
    "\n",
    "    for point in range(polygon_sides-2):\n",
    "        fulcrum=edges[-1]\n",
    "        rotating_point=edges[-2]\n",
    "        new_point=rotated_about(rotating_point[0],rotating_point[1],fulcrum[0],fulcrum[1],math.radians(polygon_angle))\n",
    "        edges.append(new_point)\n",
    "\n",
    "    draw.polygon(edges,fill=255)\n",
    "\n",
    "\n",
    "\n",
    "    bg_image=np.zeros((big_image_size,big_image_size))\n",
    "\n",
    "    startX=int(xpos - (image_size//2))\n",
    "    startY=int(ypos - (image_size//2))\n",
    "    assert startX>0 and startY>0\n",
    "\n",
    "    \n",
    "\n",
    "    # final_image = embed_norm(np.array(image),bg_image, xpos, ypos)\n",
    "    right_final_image = embed_norm(np.array(image),bg_image, startX, startY)\n",
    "    ##########################################################################################\n",
    "    \n",
    "\n",
    "    all_images.append([left_final_image,right_final_image])\n",
    "    \n",
    "    \n",
    "all_images=np.array(all_images)  \n",
    "    \n",
    "    \n",
    "    "
   ]
  },
  {
   "cell_type": "code",
   "execution_count": 177,
   "id": "bb9e4cde-cc1a-4462-9e95-6c55282b8d0f",
   "metadata": {},
   "outputs": [
    {
     "data": {
      "application/vnd.jupyter.widget-view+json": {
       "model_id": "f1be1bc7cc7040c4b4da2faa79ca007a",
       "version_major": 2,
       "version_minor": 0
      },
      "text/plain": [
       "interactive(children=(IntSlider(value=95, description='img_num', max=191), Output()), _dom_classes=('widget-in…"
      ]
     },
     "metadata": {},
     "output_type": "display_data"
    }
   ],
   "source": [
    "@interact(img_num=(0,len(all_images)-1))\n",
    "def display_image(img_num):\n",
    "    display(all_images[img_num][0])\n",
    "    display(all_images[img_num][1])"
   ]
  },
  {
   "cell_type": "markdown",
   "id": "3d17ff67-c93e-4b85-bb68-aff45cd17b1a",
   "metadata": {},
   "source": [
    "# Part C: Showing these images to the DNN and recording activity from the DNN units"
   ]
  },
  {
   "cell_type": "code",
   "execution_count": 178,
   "id": "6604ea2a-0bc0-4368-8c06-caff6b7e0566",
   "metadata": {},
   "outputs": [],
   "source": [
    "# normalize images using parameters from the training image set\n",
    "image_transform= transforms.Compose([       \n",
    " transforms.Resize(256),transforms.Pad(128),\n",
    " transforms.CenterCrop((512,512)),         \n",
    " transforms.ToTensor(),                    \n",
    " transforms.Normalize(                      \n",
    " mean=[0.485, 0.456, 0.406],                \n",
    " std=[0.229, 0.224, 0.225])])"
   ]
  },
  {
   "cell_type": "code",
   "execution_count": 179,
   "id": "43281e2a-433e-4fd0-9802-09a1e36f017c",
   "metadata": {},
   "outputs": [
    {
     "data": {
      "application/vnd.jupyter.widget-view+json": {
       "model_id": "aad520fda18f4ed8b38f534cd4cb7dab",
       "version_major": 2,
       "version_minor": 0
      },
      "text/plain": [
       "interactive(children=(IntSlider(value=95, description='img_num', max=191), Output()), _dom_classes=('widget-in…"
      ]
     },
     "metadata": {},
     "output_type": "display_data"
    }
   ],
   "source": [
    "@interact(img_num=(0,len(all_images)-1))\n",
    "def display_image(img_num):\n",
    "    \n",
    "    display(all_images[img_num][0])\n",
    "    img_left=image_transform(all_images[img_num][0].convert('RGB'))\n",
    "    img_left=img_left.to(device)\n",
    "    img_left=torch.unsqueeze(img_left,0)\n",
    "    print('Left image',img_left.shape)\n",
    "    \n",
    "    \n",
    "    \n",
    "    display(all_images[img_num][1])\n",
    "    img_right=image_transform(all_images[img_num][1].convert('RGB'))\n",
    "    img_right=img_right.to(device)\n",
    "    img_right=torch.unsqueeze(img_right,0)\n",
    "    print('Right image',img_right.shape)\n",
    "    \n",
    "    \n"
   ]
  },
  {
   "cell_type": "markdown",
   "id": "35764e14-198b-4d6b-8fa3-83143ca10a1c",
   "metadata": {},
   "source": [
    "### passing these images and getting features"
   ]
  },
  {
   "cell_type": "code",
   "execution_count": 180,
   "id": "bdde030a-2479-4603-877d-2eb554f97ace",
   "metadata": {},
   "outputs": [],
   "source": [
    "base_model=pretrained_models.alexnet(pretrained=True)\n",
    "base_model.eval()\n",
    "\n",
    "base_model=base_model.to(device)"
   ]
  },
  {
   "cell_type": "code",
   "execution_count": 181,
   "id": "1690d5e0-12ca-412d-b543-8c38d1501c76",
   "metadata": {},
   "outputs": [
    {
     "data": {
      "application/vnd.jupyter.widget-view+json": {
       "model_id": "70fa182a38464abbb1a2f5d634215c38",
       "version_major": 2,
       "version_minor": 0
      },
      "text/plain": [
       "interactive(children=(IntSlider(value=95, description='img_num', max=191), Output()), _dom_classes=('widget-in…"
      ]
     },
     "metadata": {},
     "output_type": "display_data"
    }
   ],
   "source": [
    "@interact(img_num=(0,len(all_images)-1))\n",
    "def display_image(img_num):\n",
    "    \n",
    "\n",
    "    img_left=image_transform(all_images[img_num][0].convert('RGB'))\n",
    "    img_left=img_left.to(device)\n",
    "    img_left=torch.unsqueeze(img_left,0)\n",
    "\n",
    "    \n",
    "    \n",
    "    \n",
    "\n",
    "    img_right=image_transform(all_images[img_num][1].convert('RGB'))\n",
    "    img_right=img_right.to(device)\n",
    "    img_right=torch.unsqueeze(img_right,0)\n",
    "\n",
    "    \n",
    "    \n",
    "    \n",
    "    \n",
    "    \n",
    "    with FeatureExtractor(base_model, current_layer) as extractor:\n",
    "        features = extractor(torch.cat((img_left,img_right),0))\n",
    "        temp_output=features[current_layer]\n",
    "        \n",
    "        \n",
    "        output=torch.clone(temp_output.detach().cpu())\n",
    "        \n",
    "        output=output[:,img_num,global_row_pos,global_col_pos]\n",
    "        print(output)\n",
    "        "
   ]
  },
  {
   "cell_type": "code",
   "execution_count": null,
   "id": "ffe374b3-d02f-4746-996d-ad52c9e2f309",
   "metadata": {},
   "outputs": [],
   "source": []
  },
  {
   "cell_type": "markdown",
   "id": "3379c881-e0a5-4983-9e04-e238a7f963c8",
   "metadata": {},
   "source": [
    "# Part D - Combining Part B and Part C"
   ]
  },
  {
   "cell_type": "code",
   "execution_count": 583,
   "id": "1fb68fdf-544a-4b35-8dfc-0ad94a6b2a83",
   "metadata": {},
   "outputs": [
    {
     "data": {
      "text/plain": [
       "(63, 63, 196)"
      ]
     },
     "execution_count": 583,
     "metadata": {},
     "output_type": "execute_result"
    }
   ],
   "source": [
    "orientation_rf_matrix=np.load('./rf_orientatation_values/'+current_layer.replace('.','_') + '.npy')\n",
    "orientation_rf_matrix.shape"
   ]
  },
  {
   "cell_type": "code",
   "execution_count": 584,
   "id": "702602bd-ee7c-42a4-8391-9870deaeae78",
   "metadata": {},
   "outputs": [],
   "source": [
    "# normalize images using parameters from the training image set\n",
    "image_transform= transforms.Compose([       \n",
    " transforms.Resize(256),transforms.Pad(128),\n",
    " transforms.CenterCrop((512,512)),         \n",
    " transforms.ToTensor(),                    \n",
    " transforms.Normalize(                      \n",
    " mean=[0.485, 0.456, 0.406],                \n",
    " std=[0.229, 0.224, 0.225])])"
   ]
  },
  {
   "cell_type": "code",
   "execution_count": 585,
   "id": "2a9ebb71-1449-4b69-8996-7b52a1470847",
   "metadata": {},
   "outputs": [],
   "source": [
    "base_model=pretrained_models.alexnet(pretrained=True)\n",
    "base_model.eval()\n",
    "\n",
    "base_model=base_model.to(device)"
   ]
  },
  {
   "cell_type": "code",
   "execution_count": 586,
   "id": "48462052-3487-497f-a4f8-966c3857cb13",
   "metadata": {},
   "outputs": [],
   "source": [
    "def get_sof_images_pos(row_pos,col_pos):\n",
    "    all_images=[]\n",
    "\n",
    "    for readable_orientation in tqdm(orientation_rf_matrix[0,0,4:],disable=True):\n",
    "        top,bottom,left,right =orientation_rf_matrix[(row_pos,col_pos)][:4].astype(np.int64)\n",
    "\n",
    "\n",
    "        orientation=360-readable_orientation\n",
    "        image_size=int((bottom-top)*2.5)\n",
    "        edge_length=10 * 4.0\n",
    "        polygon_sides=4\n",
    "\n",
    "        big_image_size=512\n",
    "        ypos=top + (bottom-top)/2 \n",
    "        xpos=left + (right-left)/2\n",
    "\n",
    "\n",
    "\n",
    "\n",
    "        image_center=(image_size//2,image_size//2)\n",
    "\n",
    "        ##########################################################################################\n",
    "        ##### Left image\n",
    "        side_fig='left'\n",
    "        if(side_fig=='left'):\n",
    "            polygon_angle=(1)*(180-360//polygon_sides)\n",
    "        elif(side_fig=='right'):\n",
    "            polygon_angle=(-1)*(180-360//polygon_sides)\n",
    "\n",
    "\n",
    "        edges=[]\n",
    "\n",
    "        image = Image.new('L', (image_size, image_size), 0)\n",
    "        draw = ImageDraw.Draw(image)\n",
    "\n",
    "\n",
    "\n",
    "        edges.append((round(image_center[0] + edge_length//2 * math.cos(math.radians(180-orientation))), round(image_center[1] - edge_length//2 * math.sin(math.radians(180-orientation)))))\n",
    "        edges.append((round(image_center[0] + edge_length//2 * math.cos(math.radians(orientation))), round(image_center[1] + edge_length//2 * math.sin(math.radians(orientation)))))\n",
    "\n",
    "        for point in range(polygon_sides-2):\n",
    "            fulcrum=edges[-1]\n",
    "            rotating_point=edges[-2]\n",
    "            new_point=rotated_about(rotating_point[0],rotating_point[1],fulcrum[0],fulcrum[1],math.radians(polygon_angle))\n",
    "            edges.append(new_point)\n",
    "\n",
    "        draw.polygon(edges,fill=255)\n",
    "\n",
    "\n",
    "\n",
    "        bg_image=np.zeros((big_image_size,big_image_size))\n",
    "\n",
    "        startX=int(xpos - (image_size//2))\n",
    "        startY=int(ypos - (image_size//2))\n",
    "        assert startX>0 and startY>0\n",
    "\n",
    "        \n",
    "        left_final_image = embed_norm(np.array(image),bg_image, startX, startY)\n",
    "        ##########################################################################################\n",
    "\n",
    "\n",
    "        ##########################################################################################\n",
    "        ##### Right image\n",
    "        side_fig='right'\n",
    "        if(side_fig=='left'):\n",
    "            polygon_angle=(1)*(180-360//polygon_sides)\n",
    "        elif(side_fig=='right'):\n",
    "            polygon_angle=(-1)*(180-360//polygon_sides)\n",
    "\n",
    "\n",
    "        edges=[]\n",
    "\n",
    "        image = Image.new('L', (image_size, image_size), 0)\n",
    "        draw = ImageDraw.Draw(image)\n",
    "\n",
    "\n",
    "\n",
    "        edges.append((round(image_center[0] + edge_length//2 * math.cos(math.radians(180-orientation))), round(image_center[1] - edge_length//2 * math.sin(math.radians(180-orientation)))))\n",
    "        edges.append((round(image_center[0] + edge_length//2 * math.cos(math.radians(orientation))), round(image_center[1] + edge_length//2 * math.sin(math.radians(orientation)))))\n",
    "\n",
    "        for point in range(polygon_sides-2):\n",
    "            fulcrum=edges[-1]\n",
    "            rotating_point=edges[-2]\n",
    "            new_point=rotated_about(rotating_point[0],rotating_point[1],fulcrum[0],fulcrum[1],math.radians(polygon_angle))\n",
    "            edges.append(new_point)\n",
    "\n",
    "        draw.polygon(edges,fill=255)\n",
    "\n",
    "\n",
    "\n",
    "        bg_image=np.zeros((big_image_size,big_image_size))\n",
    "\n",
    "        startX=int(xpos - (image_size//2))\n",
    "        startY=int(ypos - (image_size//2))\n",
    "        assert startX>0 and startY>0\n",
    "\n",
    "\n",
    "\n",
    "        \n",
    "        right_final_image = embed_norm(np.array(image),bg_image, startX, startY)\n",
    "        ##########################################################################################\n",
    "\n",
    "\n",
    "        all_images.append([left_final_image,right_final_image])\n",
    "\n",
    "\n",
    "    all_images=np.array(all_images)  \n",
    "    return all_images\n",
    "    \n",
    "    \n",
    "    "
   ]
  },
  {
   "cell_type": "code",
   "execution_count": 587,
   "id": "e1f63351-7866-454c-8c31-b7477734eeb1",
   "metadata": {},
   "outputs": [],
   "source": [
    "def get_activity_pos(all_images,img_num,row_pos,col_pos):\n",
    "    img_left=image_transform(all_images[img_num][0].convert('RGB'))\n",
    "    img_left=img_left.to(device)\n",
    "    img_left=torch.unsqueeze(img_left,0)\n",
    "\n",
    "\n",
    "\n",
    "\n",
    "\n",
    "    img_right=image_transform(all_images[img_num][1].convert('RGB'))\n",
    "    img_right=img_right.to(device)\n",
    "    img_right=torch.unsqueeze(img_right,0)\n",
    "\n",
    "\n",
    "\n",
    "\n",
    "\n",
    "\n",
    "    with FeatureExtractor(base_model, current_layer) as extractor:\n",
    "        features = extractor(torch.cat((img_left,img_right),0))\n",
    "        temp_output=features[current_layer]\n",
    "\n",
    "\n",
    "        output=torch.clone(temp_output.detach().cpu())\n",
    "\n",
    "        output=output[:,img_num,row_pos,col_pos]\n",
    "        return output"
   ]
  },
  {
   "cell_type": "code",
   "execution_count": 588,
   "id": "3d4e30bc-d2d1-4285-9012-c9eec8ab5b05",
   "metadata": {},
   "outputs": [],
   "source": [
    "def analyse_position(row_pos=31,col_pos=31):\n",
    "    \n",
    "    try:\n",
    "        all_images=get_sof_images_pos(row_pos,col_pos)\n",
    "\n",
    "        all_outputs=[]\n",
    "        for img_num in range(all_images.shape[0]):\n",
    "            output=get_activity_pos(all_images,img_num,row_pos,col_pos)\n",
    "            all_outputs.append(output)\n",
    "        all_outputs=torch.stack(all_outputs)\n",
    "        return all_outputs,(row_pos,col_pos)\n",
    "    \n",
    "    \n",
    "    except AssertionError:\n",
    "        return None,None"
   ]
  },
  {
   "cell_type": "code",
   "execution_count": 592,
   "id": "7550bbee-8997-449c-94d3-f64b2860980c",
   "metadata": {},
   "outputs": [
    {
     "data": {
      "text/plain": [
       "(None, None)"
      ]
     },
     "execution_count": 592,
     "metadata": {},
     "output_type": "execute_result"
    }
   ],
   "source": [
    "analyse_position(0,26)"
   ]
  },
  {
   "cell_type": "code",
   "execution_count": 593,
   "id": "a1abb2fc-712f-4e4f-bc31-60dcb7403edd",
   "metadata": {},
   "outputs": [],
   "source": [
    "all_outputs,map_pos=analyse_position(0,26)"
   ]
  },
  {
   "cell_type": "code",
   "execution_count": null,
   "id": "80ec305f-a2bb-4a42-beaf-b6f1127685f3",
   "metadata": {},
   "outputs": [],
   "source": []
  },
  {
   "cell_type": "code",
   "execution_count": 594,
   "id": "5c8698c8-038c-4e3b-8081-dfb6ed8b0f81",
   "metadata": {},
   "outputs": [
    {
     "name": "stderr",
     "output_type": "stream",
     "text": [
      "/opt/conda/lib/python3.7/site-packages/ipykernel_launcher.py:107: FutureWarning: The input object of type 'Image' is an array-like implementing one of the corresponding protocols (`__array__`, `__array_interface__` or `__array_struct__`); but not a sequence (or 0-D). In the future, this object will be coerced as if it was first converted using `np.array(obj)`. To retain the old behaviour, you have to either modify the type 'Image', or assign to an empty array created with `np.empty(correct_shape, dtype=object)`.\n",
      "/opt/conda/lib/python3.7/site-packages/ipykernel_launcher.py:107: VisibleDeprecationWarning: Creating an ndarray from ragged nested sequences (which is a list-or-tuple of lists-or-tuples-or ndarrays with different lengths or shapes) is deprecated. If you meant to do this, you must specify 'dtype=object' when creating the ndarray.\n"
     ]
    }
   ],
   "source": [
    "probe_pos=[]\n",
    "probe_output=[]\n",
    "for row_pos in range(20,40):\n",
    "    for col_pos in range(20,40):\n",
    "        all_outputs,map_pos=analyse_position(row_pos,col_pos)\n",
    "        if(all_outputs!=None):\n",
    "            probe_output.append(all_outputs)\n",
    "            probe_pos.append(map_pos)"
   ]
  },
  {
   "cell_type": "code",
   "execution_count": 597,
   "id": "19158c2c-c7ff-4514-b786-980e22699b66",
   "metadata": {},
   "outputs": [],
   "source": [
    "probe_pos=np.array(probe_pos)\n",
    "probe_output=torch.stack(probe_output)"
   ]
  },
  {
   "cell_type": "code",
   "execution_count": 598,
   "id": "a28da0ee-2512-4470-98b7-8527e87e71e3",
   "metadata": {},
   "outputs": [
    {
     "data": {
      "text/plain": [
       "(400, 2)"
      ]
     },
     "execution_count": 598,
     "metadata": {},
     "output_type": "execute_result"
    }
   ],
   "source": [
    "probe_pos.shape"
   ]
  },
  {
   "cell_type": "code",
   "execution_count": 599,
   "id": "c37f144a-fcd7-443b-92b8-63a89bcb1e2f",
   "metadata": {},
   "outputs": [
    {
     "data": {
      "text/plain": [
       "torch.Size([400, 192, 2])"
      ]
     },
     "execution_count": 599,
     "metadata": {},
     "output_type": "execute_result"
    }
   ],
   "source": [
    "probe_output.shape"
   ]
  },
  {
   "cell_type": "code",
   "execution_count": 600,
   "id": "27ce49ed-33cf-4a26-84c1-f0a9da9bbf2c",
   "metadata": {},
   "outputs": [],
   "source": [
    "# torch.save(probe_output,'./sof_values/'+current_layer.replace('.','_') + '.npy')"
   ]
  },
  {
   "cell_type": "code",
   "execution_count": null,
   "id": "d625b52a-cd46-49be-9ed5-1ba84522baa6",
   "metadata": {},
   "outputs": [],
   "source": []
  },
  {
   "cell_type": "code",
   "execution_count": null,
   "id": "0d649a8d-4af1-4143-be9f-2dbf2bcf316d",
   "metadata": {},
   "outputs": [],
   "source": []
  },
  {
   "cell_type": "code",
   "execution_count": 653,
   "id": "cb62d665-734f-49be-8441-a0cf178dd70f",
   "metadata": {},
   "outputs": [],
   "source": [
    "probe_diff=np.abs(probe_output[:,:,0] - probe_output[:,:,1])"
   ]
  },
  {
   "cell_type": "code",
   "execution_count": 654,
   "id": "60058bf1-eda2-4d15-a875-b35c7017b28c",
   "metadata": {},
   "outputs": [
    {
     "data": {
      "text/plain": [
       "tensor([0.0000e+00, 0.0000e+00, 0.0000e+00, 0.0000e+00, 1.5799e+00, 6.0747e-02,\n",
       "        0.0000e+00, 0.0000e+00, 1.7343e-01, 0.0000e+00, 7.3224e-01, 0.0000e+00,\n",
       "        1.0152e-01, 9.2033e-01, 0.0000e+00, 4.0945e-02, 0.0000e+00, 1.1913e-01,\n",
       "        2.0695e+00, 3.8411e-01, 2.5929e+00, 2.4822e-02, 2.0888e-01, 0.0000e+00,\n",
       "        5.3937e-02, 5.9451e-02, 8.7705e-02, 3.8462e-02, 0.0000e+00, 4.6269e-02,\n",
       "        0.0000e+00, 2.1076e-01, 3.1237e-03, 0.0000e+00, 3.1661e-01, 0.0000e+00,\n",
       "        0.0000e+00, 0.0000e+00, 1.0457e-02, 0.0000e+00, 2.0745e-01, 3.7610e-01,\n",
       "        7.9022e-02, 2.2345e-02, 0.0000e+00, 8.5334e-01, 1.7347e-02, 0.0000e+00,\n",
       "        2.1127e-01, 0.0000e+00, 0.0000e+00, 1.3731e+00, 2.8479e-02, 2.5263e-01,\n",
       "        0.0000e+00, 1.6876e-02, 0.0000e+00, 0.0000e+00, 5.9260e-02, 6.7717e-01,\n",
       "        3.6900e-01, 0.0000e+00, 4.9606e-02, 1.0031e+00, 4.7925e-02, 0.0000e+00,\n",
       "        6.7711e-02, 1.0091e-02, 9.9171e-03, 0.0000e+00, 7.6915e-01, 1.4448e-01,\n",
       "        0.0000e+00, 5.0633e+00, 0.0000e+00, 5.9726e-01, 2.9956e-01, 1.6084e-01,\n",
       "        6.5182e-01, 7.0759e-01, 2.9120e-02, 0.0000e+00, 1.7030e-01, 8.7923e-01,\n",
       "        0.0000e+00, 7.4358e-01, 3.6376e-01, 0.0000e+00, 0.0000e+00, 0.0000e+00,\n",
       "        3.0034e-02, 4.2865e-02, 6.0676e-01, 0.0000e+00, 2.4686e-01, 0.0000e+00,\n",
       "        4.7695e-01, 5.0314e-01, 0.0000e+00, 3.9098e-01, 1.5117e-01, 0.0000e+00,\n",
       "        0.0000e+00, 0.0000e+00, 0.0000e+00, 5.0115e-02, 0.0000e+00, 1.0148e-01,\n",
       "        0.0000e+00, 0.0000e+00, 0.0000e+00, 7.4934e-02, 0.0000e+00, 0.0000e+00,\n",
       "        4.4043e-01, 7.0896e-01, 0.0000e+00, 0.0000e+00, 1.0495e-01, 1.0162e-01,\n",
       "        1.5791e-01, 6.8383e-01, 1.2139e+00, 4.0453e-01, 0.0000e+00, 0.0000e+00,\n",
       "        0.0000e+00, 0.0000e+00, 0.0000e+00, 2.3818e-01, 7.7138e-01, 0.0000e+00,\n",
       "        8.8784e-01, 0.0000e+00, 4.0505e-01, 0.0000e+00, 0.0000e+00, 2.1071e-02,\n",
       "        5.2253e-02, 1.6785e-01, 4.3725e-01, 8.6682e-01, 8.6777e-01, 0.0000e+00,\n",
       "        1.8245e-01, 3.5977e-04, 0.0000e+00, 1.1375e-01, 2.8722e-01, 0.0000e+00,\n",
       "        1.9365e-01, 4.6607e-02, 2.0844e+00, 0.0000e+00, 0.0000e+00, 2.0521e-01,\n",
       "        9.8726e-01, 4.1663e-01, 4.7865e-02, 0.0000e+00, 1.6917e+00, 0.0000e+00,\n",
       "        1.0968e-01, 1.3817e-01, 1.4622e-01, 7.3354e-03, 1.9842e+00, 0.0000e+00,\n",
       "        4.3869e-01, 7.8870e-02, 2.1637e-01, 2.3238e-01, 9.2462e-02, 1.3228e+00,\n",
       "        0.0000e+00, 3.6212e+00, 0.0000e+00, 0.0000e+00, 0.0000e+00, 9.2340e-02,\n",
       "        0.0000e+00, 1.1523e+00, 4.6619e-03, 1.0415e-02, 0.0000e+00, 7.2716e-01,\n",
       "        0.0000e+00, 7.1871e-01, 3.4804e-01, 0.0000e+00, 2.6691e-01, 5.6551e-01])"
      ]
     },
     "execution_count": 654,
     "metadata": {},
     "output_type": "execute_result"
    }
   ],
   "source": [
    "probe_diff[-1]"
   ]
  },
  {
   "cell_type": "code",
   "execution_count": 655,
   "id": "e4402587-c846-4578-9556-e46323abcae1",
   "metadata": {},
   "outputs": [
    {
     "data": {
      "text/plain": [
       "torch.Size([400, 192])"
      ]
     },
     "execution_count": 655,
     "metadata": {},
     "output_type": "execute_result"
    }
   ],
   "source": [
    "probe_diff.shape"
   ]
  },
  {
   "cell_type": "code",
   "execution_count": 656,
   "id": "a505ebfd-5a78-453d-b6ea-e035e4951b4d",
   "metadata": {},
   "outputs": [],
   "source": [
    "probe_diff=np.transpose(probe_diff)"
   ]
  },
  {
   "cell_type": "code",
   "execution_count": 657,
   "id": "3d82ba0b-8e01-4946-976b-7e3d8410ef9c",
   "metadata": {},
   "outputs": [
    {
     "data": {
      "text/plain": [
       "torch.Size([192, 400])"
      ]
     },
     "execution_count": 657,
     "metadata": {},
     "output_type": "execute_result"
    }
   ],
   "source": [
    "probe_diff.shape"
   ]
  },
  {
   "cell_type": "code",
   "execution_count": 662,
   "id": "0c772dae-6b2b-482d-8ece-2801feb8753c",
   "metadata": {},
   "outputs": [
    {
     "data": {
      "text/plain": [
       "tensor(0.4280)"
      ]
     },
     "execution_count": 662,
     "metadata": {},
     "output_type": "execute_result"
    }
   ],
   "source": [
    "torch.mean(probe_diff[0,:])"
   ]
  },
  {
   "cell_type": "code",
   "execution_count": 693,
   "id": "6be630bf-49a6-4413-82bc-80aaf55c09ab",
   "metadata": {},
   "outputs": [],
   "source": [
    "probe_diff_percentage=[]\n",
    "probe_diff_mean=[]\n",
    "probe_diff_std=[]\n",
    "for i in range(probe_diff.shape[0]):\n",
    "    probe_diff_percentage.append(len(np.where(probe_diff[i,:]!=0)[0])/float(probe_diff[i,:].shape[0]))\n",
    "    probe_diff_mean.append(torch.mean(probe_diff[i,:]).item())\n",
    "    probe_diff_std.append(torch.std(probe_diff[i,:]).item())\n",
    "    \n",
    "probe_diff_percentage=np.array(probe_diff_percentage)\n",
    "probe_diff_mean=np.array(probe_diff_mean)\n",
    "probe_diff_std=np.array(probe_diff_std)"
   ]
  },
  {
   "cell_type": "code",
   "execution_count": 694,
   "id": "136f593a-b971-40cc-94f6-865f30ffb3d1",
   "metadata": {},
   "outputs": [
    {
     "data": {
      "text/plain": [
       "[<matplotlib.lines.Line2D at 0x7f72edd4d8d0>]"
      ]
     },
     "execution_count": 694,
     "metadata": {},
     "output_type": "execute_result"
    },
    {
     "data": {
      "image/png": "[encoded data removed]",
      "text/plain": [
       "<Figure size 432x288 with 1 Axes>"
      ]
     },
     "metadata": {
      "needs_background": "light"
     },
     "output_type": "display_data"
    }
   ],
   "source": [
    "plt.plot(np.arange(len(probe_diff_percentage)),probe_diff_percentage)"
   ]
  },
  {
   "cell_type": "code",
   "execution_count": 695,
   "id": "ec2c9a0e-a224-4d01-8525-68772f557030",
   "metadata": {},
   "outputs": [
    {
     "data": {
      "text/plain": [
       "[<matplotlib.lines.Line2D at 0x7f72edf59490>]"
      ]
     },
     "execution_count": 695,
     "metadata": {},
     "output_type": "execute_result"
    },
    {
     "data": {
      "image/png": "[encoded data removed]",
      "text/plain": [
       "<Figure size 432x288 with 1 Axes>"
      ]
     },
     "metadata": {
      "needs_background": "light"
     },
     "output_type": "display_data"
    }
   ],
   "source": [
    "plt.plot(np.arange(len(probe_diff_mean)),probe_diff_mean)"
   ]
  },
  {
   "cell_type": "code",
   "execution_count": 710,
   "id": "0139c302-9682-4620-b954-c845313d402d",
   "metadata": {},
   "outputs": [
    {
     "data": {
      "image/png": "[encoded data removed]",
      "text/plain": [
       "<Figure size 2160x576 with 1 Axes>"
      ]
     },
     "metadata": {
      "needs_background": "light"
     },
     "output_type": "display_data"
    }
   ],
   "source": [
    "\n",
    "sort_idx=np.argsort(probe_diff_percentage)\n",
    "probe_diff_percentage=probe_diff_percentage[sort_idx]\n",
    "len(probe_diff_percentage)\n",
    "\n",
    "plt.figure(figsize=(30,8))\n",
    "# plt.bar(np.arange(len(probe_diff_percentage)),probe_diff_percentage)\n",
    "plt.plot(np.arange(len(probe_diff_percentage)),probe_diff_percentage)\n",
    "plt.xticks([],fontsize=15)\n",
    "plt.yticks(fontsize=15)\n",
    "plt.xlabel('Sorted Filter #',fontsize=15)\n",
    "plt.ylabel('Percentage of Units with Diff',fontsize=15)\n",
    "plt.gca().spines['top'].set_visible(False)\n",
    "plt.gca().spines['right'].set_visible(False)\n",
    "plt.gca().spines['left'].set_visible(True)\n",
    "plt.gca().spines['bottom'].set_visible(True)"
   ]
  },
  {
   "cell_type": "code",
   "execution_count": 697,
   "id": "fa88f8d5-0678-44fa-8b36-270e41f05664",
   "metadata": {},
   "outputs": [
    {
     "data": {
      "text/plain": [
       "83"
      ]
     },
     "execution_count": 697,
     "metadata": {},
     "output_type": "execute_result"
    }
   ],
   "source": [
    "len(np.where(probe_diff_percentage>0.6)[0])"
   ]
  },
  {
   "cell_type": "code",
   "execution_count": 711,
   "id": "f65af9bb-7e88-4e1c-8dad-227ba3f47282",
   "metadata": {},
   "outputs": [
    {
     "data": {
      "text/plain": [
       "192"
      ]
     },
     "execution_count": 711,
     "metadata": {},
     "output_type": "execute_result"
    }
   ],
   "source": [
    "sort_idx=np.argsort(probe_diff_mean)\n",
    "probe_diff_mean=probe_diff_mean[sort_idx]\n",
    "probe_diff_std=probe_diff_std[sort_idx]\n",
    "len(probe_diff_percentage)"
   ]
  },
  {
   "cell_type": "code",
   "execution_count": 716,
   "id": "a66feac5-a45a-4874-87d4-5d0ac9c6bf1f",
   "metadata": {},
   "outputs": [
    {
     "data": {
      "image/png": "[encoded data removed]",
      "text/plain": [
       "<Figure size 2160x1152 with 2 Axes>"
      ]
     },
     "metadata": {
      "needs_background": "light"
     },
     "output_type": "display_data"
    }
   ],
   "source": [
    "plt.figure(figsize=(30,16))\n",
    "\n",
    "plt.subplot(2,1,1)\n",
    "plt.plot(np.arange(len(probe_diff_mean)),probe_diff_mean,color='k')\n",
    "plt.fill_between(np.arange(len(probe_diff_mean)),probe_diff_mean - probe_diff_std,probe_diff_mean + probe_diff_std,alpha=0.4,color='green')\n",
    "plt.xticks(fontsize=15)\n",
    "plt.yticks(fontsize=15)\n",
    "plt.xlabel('Filter #',fontsize=15)\n",
    "plt.ylabel('Mean Activation',fontsize=15)\n",
    "plt.gca().spines['top'].set_visible(False)\n",
    "plt.gca().spines['right'].set_visible(False)\n",
    "plt.gca().spines['left'].set_visible(True)\n",
    "plt.gca().spines['bottom'].set_visible(True)\n",
    "\n",
    "plt.subplot(2,1,2)\n",
    "plt.plot(np.arange(len(probe_diff_mean)),(probe_diff_mean-np.mean(probe_diff_mean))/(np.std(probe_diff_mean)),color='k')\n",
    "plt.axhline(y=0,color='r',linestyle='--')\n",
    "plt.xticks(fontsize=15)\n",
    "plt.yticks(fontsize=15)\n",
    "plt.xlabel('Filter #',fontsize=15)\n",
    "plt.ylabel('Normalized/Z-scored Mean Activation',fontsize=15)\n",
    "plt.gca().spines['top'].set_visible(False)\n",
    "plt.gca().spines['right'].set_visible(False)\n",
    "plt.gca().spines['left'].set_visible(True)\n",
    "plt.gca().spines['bottom'].set_visible(True)"
   ]
  },
  {
   "cell_type": "code",
   "execution_count": 651,
   "id": "c6ff4b1a-abda-42bf-9259-19264814b4e7",
   "metadata": {},
   "outputs": [
    {
     "data": {
      "text/plain": [
       "torch.Size([192, 400])"
      ]
     },
     "execution_count": 651,
     "metadata": {},
     "output_type": "execute_result"
    }
   ],
   "source": [
    "probe_diff.shape"
   ]
  },
  {
   "cell_type": "code",
   "execution_count": null,
   "id": "22944662-1d67-4e24-8733-aba19c5e8476",
   "metadata": {},
   "outputs": [],
   "source": []
  },
  {
   "cell_type": "code",
   "execution_count": null,
   "id": "b0ddc5ed-55a0-48cc-be2b-a23cbfbd72a3",
   "metadata": {},
   "outputs": [],
   "source": []
  },
  {
   "cell_type": "code",
   "execution_count": null,
   "id": "a64303c8-286c-49ca-8107-5fe03ad883ea",
   "metadata": {},
   "outputs": [],
   "source": []
  },
  {
   "cell_type": "code",
   "execution_count": 331,
   "id": "b33d1706-7df3-4fe8-afb0-c3e7ea9d6fea",
   "metadata": {},
   "outputs": [
    {
     "name": "stdout",
     "output_type": "stream",
     "text": [
      "tensor([[1509,  127]])\n"
     ]
    }
   ],
   "source": [
    "print((probe_diff==torch.max(probe_diff)).nonzero())"
   ]
  },
  {
   "cell_type": "code",
   "execution_count": 340,
   "id": "917a84c4-7db4-4ed5-ae43-d4a8f5e1acc0",
   "metadata": {},
   "outputs": [
    {
     "data": {
      "text/plain": [
       "tensor(0.0838)"
      ]
     },
     "execution_count": 340,
     "metadata": {},
     "output_type": "execute_result"
    }
   ],
   "source": [
    "torch.sum(probe_diff != 0) / float(len(probe_diff.view(-1,)))"
   ]
  },
  {
   "cell_type": "code",
   "execution_count": 148,
   "id": "534e84da-04e1-4475-902a-fe474cd6bd34",
   "metadata": {},
   "outputs": [
    {
     "data": {
      "application/vnd.jupyter.widget-view+json": {
       "model_id": "47ca019d3955499481d4488afa656c86",
       "version_major": 2,
       "version_minor": 0
      },
      "text/plain": [
       "interactive(children=(IntSlider(value=95, description='img_num', max=191), Output()), _dom_classes=('widget-in…"
      ]
     },
     "metadata": {},
     "output_type": "display_data"
    }
   ],
   "source": [
    "@interact(img_num=(0,len(all_images)-1))\n",
    "def display_image(img_num):\n",
    "    \n",
    "\n",
    "    img_left=image_transform(all_images[img_num][0].convert('RGB'))\n",
    "    img_left=img_left.to(device)\n",
    "    img_left=torch.unsqueeze(img_left,0)\n",
    "\n",
    "    \n",
    "    \n",
    "    \n",
    "\n",
    "    img_right=image_transform(all_images[img_num][1].convert('RGB'))\n",
    "    img_right=img_right.to(device)\n",
    "    img_right=torch.unsqueeze(img_right,0)\n",
    "\n",
    "    \n",
    "    \n",
    "    \n",
    "    \n",
    "    \n",
    "    with FeatureExtractor(base_model, current_layer) as extractor:\n",
    "        features = extractor(torch.cat((img_left,img_right),0))\n",
    "        temp_output=features[current_layer]\n",
    "        \n",
    "        \n",
    "        output=torch.clone(temp_output.detach().cpu())\n",
    "        \n",
    "        output=output[:,img_num,global_row_pos,global_col_pos]\n",
    "        print(output)\n",
    "        "
   ]
  },
  {
   "cell_type": "code",
   "execution_count": null,
   "id": "f91b5aa8-6d47-416e-968a-65a29d91aa35",
   "metadata": {},
   "outputs": [],
   "source": []
  },
  {
   "cell_type": "code",
   "execution_count": null,
   "id": "2c1fe5e9-62cb-4c75-b4f4-04582026bb1d",
   "metadata": {},
   "outputs": [],
   "source": []
  },
  {
   "cell_type": "markdown",
   "id": "6665baa4-7865-4291-a6b4-ba103972f5ca",
   "metadata": {},
   "source": [
    "# Part E - Is this because of the left over portion in the classical RF?"
   ]
  },
  {
   "cell_type": "code",
   "execution_count": 717,
   "id": "ca9d5a90-5ae1-40bc-9dc9-7f62674824bf",
   "metadata": {},
   "outputs": [
    {
     "data": {
      "text/plain": [
       "(63, 63, 196)"
      ]
     },
     "execution_count": 717,
     "metadata": {},
     "output_type": "execute_result"
    }
   ],
   "source": [
    "orientation_rf_matrix=np.load('./rf_orientatation_values/'+current_layer.replace('.','_') + '.npy')\n",
    "orientation_rf_matrix.shape"
   ]
  },
  {
   "cell_type": "code",
   "execution_count": 718,
   "id": "a6d83d0f-95fc-40f0-9f25-fadb82e60228",
   "metadata": {},
   "outputs": [],
   "source": [
    "# # normalize images using parameters from the training image set\n",
    "# image_transform= transforms.Compose([       \n",
    "#  transforms.Resize(256),transforms.Pad(128),\n",
    "#  transforms.CenterCrop((512,512)),         \n",
    "#  transforms.ToTensor(),                    \n",
    "#  transforms.Normalize(                      \n",
    "#  mean=[0.485, 0.456, 0.406],                \n",
    "#  std=[0.229, 0.224, 0.225])])"
   ]
  },
  {
   "cell_type": "code",
   "execution_count": 719,
   "id": "88b47357-d059-4587-8ace-096883758e89",
   "metadata": {},
   "outputs": [],
   "source": [
    "# normalize images using parameters from the training image set\n",
    "image_transform= transforms.Compose([transforms.ToTensor()])"
   ]
  },
  {
   "cell_type": "code",
   "execution_count": 720,
   "id": "3fd2570e-d2f5-4b5b-8052-c22bf5b51abd",
   "metadata": {},
   "outputs": [],
   "source": [
    "base_model=pretrained_models.alexnet(pretrained=True)\n",
    "base_model.eval()\n",
    "\n",
    "base_model=base_model.to(device)"
   ]
  },
  {
   "cell_type": "code",
   "execution_count": 721,
   "id": "64302a87-b85d-430e-a83b-1558fb1acc1f",
   "metadata": {},
   "outputs": [],
   "source": [
    "def get_sof_images_pos(row_pos,col_pos):\n",
    "    all_images=[]\n",
    "\n",
    "    for readable_orientation in tqdm(orientation_rf_matrix[0,0,4:],disable=True):\n",
    "        top,bottom,left,right =orientation_rf_matrix[(row_pos,col_pos)][:4].astype(np.int64)\n",
    "\n",
    "\n",
    "        orientation=360-readable_orientation\n",
    "        image_size=int((bottom-top)*2.5)\n",
    "        edge_length=10 * 4.0\n",
    "        polygon_sides=4\n",
    "\n",
    "        big_image_size=512\n",
    "        ypos=top + (bottom-top)/2 \n",
    "        xpos=left + (right-left)/2\n",
    "\n",
    "\n",
    "\n",
    "\n",
    "        image_center=(image_size//2,image_size//2)\n",
    "\n",
    "        ##########################################################################################\n",
    "        ##### Left image\n",
    "        side_fig='left'\n",
    "        if(side_fig=='left'):\n",
    "            polygon_angle=(1)*(180-360//polygon_sides)\n",
    "        elif(side_fig=='right'):\n",
    "            polygon_angle=(-1)*(180-360//polygon_sides)\n",
    "\n",
    "\n",
    "        edges=[]\n",
    "\n",
    "        image = Image.new('L', (image_size, image_size), 0)\n",
    "        draw = ImageDraw.Draw(image)\n",
    "\n",
    "\n",
    "\n",
    "        edges.append((round(image_center[0] + edge_length//2 * math.cos(math.radians(180-orientation))), round(image_center[1] - edge_length//2 * math.sin(math.radians(180-orientation)))))\n",
    "        edges.append((round(image_center[0] + edge_length//2 * math.cos(math.radians(orientation))), round(image_center[1] + edge_length//2 * math.sin(math.radians(orientation)))))\n",
    "\n",
    "        for point in range(polygon_sides-2):\n",
    "            fulcrum=edges[-1]\n",
    "            rotating_point=edges[-2]\n",
    "            new_point=rotated_about(rotating_point[0],rotating_point[1],fulcrum[0],fulcrum[1],math.radians(polygon_angle))\n",
    "            edges.append(new_point)\n",
    "\n",
    "        draw.polygon(edges,fill=255)\n",
    "\n",
    "\n",
    "\n",
    "        bg_image=np.zeros((big_image_size,big_image_size))\n",
    "\n",
    "        startX=int(xpos - (image_size//2))\n",
    "        startY=int(ypos - (image_size//2))\n",
    "        assert startX>0 and startY>0\n",
    "        \n",
    "        \n",
    "        \n",
    "        left_final_image = embed_norm(np.array(image),bg_image, startX, startY)\n",
    "        \n",
    "        rf_mask=np.zeros((big_image_size,big_image_size))\n",
    "        rf_mask[top:bottom,left:right]=1.0\n",
    "        left_final_image_onlyrf = embed_norm_mask(np.array(image),bg_image, startX, startY,rf_mask)\n",
    "        ##########################################################################################\n",
    "\n",
    "\n",
    "        ##########################################################################################\n",
    "        ##### Right image\n",
    "        side_fig='right'\n",
    "        if(side_fig=='left'):\n",
    "            polygon_angle=(1)*(180-360//polygon_sides)\n",
    "        elif(side_fig=='right'):\n",
    "            polygon_angle=(-1)*(180-360//polygon_sides)\n",
    "\n",
    "\n",
    "        edges=[]\n",
    "\n",
    "        image = Image.new('L', (image_size, image_size), 0)\n",
    "        draw = ImageDraw.Draw(image)\n",
    "\n",
    "\n",
    "\n",
    "        edges.append((round(image_center[0] + edge_length//2 * math.cos(math.radians(180-orientation))), round(image_center[1] - edge_length//2 * math.sin(math.radians(180-orientation)))))\n",
    "        edges.append((round(image_center[0] + edge_length//2 * math.cos(math.radians(orientation))), round(image_center[1] + edge_length//2 * math.sin(math.radians(orientation)))))\n",
    "\n",
    "        for point in range(polygon_sides-2):\n",
    "            fulcrum=edges[-1]\n",
    "            rotating_point=edges[-2]\n",
    "            new_point=rotated_about(rotating_point[0],rotating_point[1],fulcrum[0],fulcrum[1],math.radians(polygon_angle))\n",
    "            edges.append(new_point)\n",
    "\n",
    "        draw.polygon(edges,fill=255)\n",
    "\n",
    "\n",
    "\n",
    "        bg_image=np.zeros((big_image_size,big_image_size))\n",
    "\n",
    "        startX=int(xpos - (image_size//2))\n",
    "        startY=int(ypos - (image_size//2))\n",
    "        assert startX>0 and startY>0\n",
    "\n",
    "\n",
    "\n",
    "        \n",
    "        right_final_image = embed_norm(np.array(image),bg_image, startX, startY)\n",
    "        rf_mask=np.zeros((big_image_size,big_image_size))\n",
    "        rf_mask[top:bottom,left:right]=1.0\n",
    "        right_final_image_onlyrf = embed_norm_mask(np.array(image),bg_image, startX, startY,rf_mask)\n",
    "        ##########################################################################################\n",
    "\n",
    "\n",
    "        all_images.append([left_final_image,right_final_image,left_final_image_onlyrf,right_final_image_onlyrf])\n",
    "\n",
    "\n",
    "    all_images=np.array(all_images)  \n",
    "    return all_images\n",
    "    \n",
    "    \n",
    "    "
   ]
  },
  {
   "cell_type": "code",
   "execution_count": 722,
   "id": "4eae2938-5999-4f5d-899d-c2ebd7020846",
   "metadata": {},
   "outputs": [],
   "source": [
    "def get_activity_pos(all_images,img_num,row_pos,col_pos):\n",
    "    img_left=image_transform(all_images[img_num][0].convert('RGB'))\n",
    "    img_left=img_left.to(device)\n",
    "    img_left=torch.unsqueeze(img_left,0)\n",
    "\n",
    "\n",
    "    img_right=image_transform(all_images[img_num][1].convert('RGB'))\n",
    "    img_right=img_right.to(device)\n",
    "    img_right=torch.unsqueeze(img_right,0)\n",
    "    \n",
    "    \n",
    "\n",
    "    img_left_onlyrf=image_transform(all_images[img_num][2].convert('RGB'))\n",
    "    img_left_onlyrf=img_left_onlyrf.to(device)\n",
    "    img_left_onlyrf=torch.unsqueeze(img_left_onlyrf,0)\n",
    "\n",
    "\n",
    "    img_right_onlyrf=image_transform(all_images[img_num][3].convert('RGB'))\n",
    "    img_right_onlyrf=img_right_onlyrf.to(device)\n",
    "    img_right_onlyrf=torch.unsqueeze(img_right_onlyrf,0)\n",
    "\n",
    "\n",
    "\n",
    "\n",
    "    with FeatureExtractor(base_model, current_layer) as extractor:\n",
    "        features = extractor(torch.cat((img_left,img_right,img_left_onlyrf,img_right_onlyrf),0))\n",
    "        temp_output=features[current_layer]\n",
    "\n",
    "\n",
    "        output=torch.clone(temp_output.detach().cpu())\n",
    "\n",
    "        output=output[:,img_num,row_pos,col_pos]\n",
    "        return output"
   ]
  },
  {
   "cell_type": "code",
   "execution_count": 723,
   "id": "70744ec3-0a97-4f8a-92c5-6693627be14c",
   "metadata": {},
   "outputs": [],
   "source": [
    "def analyse_position(row_pos=31,col_pos=31):\n",
    "    \n",
    "    try:\n",
    "        all_images=get_sof_images_pos(row_pos,col_pos)\n",
    "\n",
    "        all_outputs=[]\n",
    "        for img_num in range(all_images.shape[0]):\n",
    "            output=get_activity_pos(all_images,img_num,row_pos,col_pos)\n",
    "            all_outputs.append(output)\n",
    "        all_outputs=torch.stack(all_outputs)\n",
    "        return all_outputs,(row_pos,col_pos)\n",
    "    \n",
    "    \n",
    "    except AssertionError:\n",
    "        return None,None"
   ]
  },
  {
   "cell_type": "code",
   "execution_count": 724,
   "id": "198f98ba-07f7-42ce-bc68-be46d71dbbff",
   "metadata": {},
   "outputs": [
    {
     "data": {
      "text/plain": [
       "(None, None)"
      ]
     },
     "execution_count": 724,
     "metadata": {},
     "output_type": "execute_result"
    }
   ],
   "source": [
    "analyse_position(0,26)"
   ]
  },
  {
   "cell_type": "code",
   "execution_count": 725,
   "id": "3ca48f9f-6dd4-4544-a206-97a634314363",
   "metadata": {},
   "outputs": [
    {
     "name": "stderr",
     "output_type": "stream",
     "text": [
      "/opt/conda/lib/python3.7/site-packages/ipykernel_launcher.py:115: FutureWarning: The input object of type 'Image' is an array-like implementing one of the corresponding protocols (`__array__`, `__array_interface__` or `__array_struct__`); but not a sequence (or 0-D). In the future, this object will be coerced as if it was first converted using `np.array(obj)`. To retain the old behaviour, you have to either modify the type 'Image', or assign to an empty array created with `np.empty(correct_shape, dtype=object)`.\n",
      "/opt/conda/lib/python3.7/site-packages/ipykernel_launcher.py:115: VisibleDeprecationWarning: Creating an ndarray from ragged nested sequences (which is a list-or-tuple of lists-or-tuples-or ndarrays with different lengths or shapes) is deprecated. If you meant to do this, you must specify 'dtype=object' when creating the ndarray.\n"
     ]
    }
   ],
   "source": [
    "all_outputs,map_pos=analyse_position(20,20)"
   ]
  },
  {
   "cell_type": "code",
   "execution_count": 726,
   "id": "51063041-2300-4528-9aa4-4825039e062d",
   "metadata": {},
   "outputs": [
    {
     "data": {
      "text/plain": [
       "torch.Size([192, 4])"
      ]
     },
     "execution_count": 726,
     "metadata": {},
     "output_type": "execute_result"
    }
   ],
   "source": [
    "all_outputs.shape"
   ]
  },
  {
   "cell_type": "code",
   "execution_count": 727,
   "id": "7d98dc05-5ecb-4bdb-93c9-e499a3f58db7",
   "metadata": {},
   "outputs": [
    {
     "data": {
      "text/plain": [
       "tensor([0., 0., 0., 0., 0., 0., 0., 0., 0., 0., 0., 0., 0., 0., 0., 0., 0., 0., 0., 0., 0., 0., 0., 0.,\n",
       "        0., 0., 0., 0., 0., 0., 0., 0., 0., 0., 0., 0., 0., 0., 0., 0., 0., 0., 0., 0., 0., 0., 0., 0.,\n",
       "        0., 0., 0., 0., 0., 0., 0., 0., 0., 0., 0., 0., 0., 0., 0., 0., 0., 0., 0., 0., 0., 0., 0., 0.,\n",
       "        0., 0., 0., 0., 0., 0., 0., 0., 0., 0., 0., 0., 0., 0., 0., 0., 0., 0., 0., 0., 0., 0., 0., 0.,\n",
       "        0., 0., 0., 0., 0., 0., 0., 0., 0., 0., 0., 0., 0., 0., 0., 0., 0., 0., 0., 0., 0., 0., 0., 0.,\n",
       "        0., 0., 0., 0., 0., 0., 0., 0., 0., 0., 0., 0., 0., 0., 0., 0., 0., 0., 0., 0., 0., 0., 0., 0.,\n",
       "        0., 0., 0., 0., 0., 0., 0., 0., 0., 0., 0., 0., 0., 0., 0., 0., 0., 0., 0., 0., 0., 0., 0., 0.,\n",
       "        0., 0., 0., 0., 0., 0., 0., 0., 0., 0., 0., 0., 0., 0., 0., 0., 0., 0., 0., 0., 0., 0., 0., 0.])"
      ]
     },
     "execution_count": 727,
     "metadata": {},
     "output_type": "execute_result"
    }
   ],
   "source": [
    "all_outputs[:,0] - all_outputs[:,2]"
   ]
  },
  {
   "cell_type": "code",
   "execution_count": 728,
   "id": "92e6f846-3f3f-4e87-a240-0df0262d13a5",
   "metadata": {},
   "outputs": [
    {
     "data": {
      "text/plain": [
       "tensor([0., 0., 0., 0., 0., 0., 0., 0., 0., 0., 0., 0., 0., 0., 0., 0., 0., 0., 0., 0., 0., 0., 0., 0.,\n",
       "        0., 0., 0., 0., 0., 0., 0., 0., 0., 0., 0., 0., 0., 0., 0., 0., 0., 0., 0., 0., 0., 0., 0., 0.,\n",
       "        0., 0., 0., 0., 0., 0., 0., 0., 0., 0., 0., 0., 0., 0., 0., 0., 0., 0., 0., 0., 0., 0., 0., 0.,\n",
       "        0., 0., 0., 0., 0., 0., 0., 0., 0., 0., 0., 0., 0., 0., 0., 0., 0., 0., 0., 0., 0., 0., 0., 0.,\n",
       "        0., 0., 0., 0., 0., 0., 0., 0., 0., 0., 0., 0., 0., 0., 0., 0., 0., 0., 0., 0., 0., 0., 0., 0.,\n",
       "        0., 0., 0., 0., 0., 0., 0., 0., 0., 0., 0., 0., 0., 0., 0., 0., 0., 0., 0., 0., 0., 0., 0., 0.,\n",
       "        0., 0., 0., 0., 0., 0., 0., 0., 0., 0., 0., 0., 0., 0., 0., 0., 0., 0., 0., 0., 0., 0., 0., 0.,\n",
       "        0., 0., 0., 0., 0., 0., 0., 0., 0., 0., 0., 0., 0., 0., 0., 0., 0., 0., 0., 0., 0., 0., 0., 0.])"
      ]
     },
     "execution_count": 728,
     "metadata": {},
     "output_type": "execute_result"
    }
   ],
   "source": [
    "all_outputs[:,1] - all_outputs[:,3]"
   ]
  },
  {
   "cell_type": "code",
   "execution_count": 729,
   "id": "c03f1680-1915-4c7c-9c8f-bec2948e2403",
   "metadata": {},
   "outputs": [
    {
     "data": {
      "application/vnd.jupyter.widget-view+json": {
       "model_id": "d4eb231a6e6443dca7d372ad8621d098",
       "version_major": 2,
       "version_minor": 0
      },
      "text/plain": [
       "interactive(children=(IntSlider(value=31, description='row_pos', max=62), IntSlider(value=31, description='col…"
      ]
     },
     "metadata": {},
     "output_type": "display_data"
    }
   ],
   "source": [
    "@interact(row_pos=(0,62),col_pos=(0,62),img_num=(0,191))\n",
    "def display_position_specific(row_pos=31,col_pos=31,img_num=0):\n",
    "    \n",
    "    try:\n",
    "        all_images=get_sof_images_pos(row_pos,col_pos)\n",
    "        display(all_images[img_num][0])\n",
    "        display(all_images[img_num][1])\n",
    "        display(all_images[img_num][2])\n",
    "        display(all_images[img_num][3])\n",
    "        \n",
    "        # set_trace()\n",
    "\n",
    "        img_left=image_transform(all_images[img_num][0].convert('RGB'))\n",
    "        img_left=img_left.to(device)\n",
    "        img_left=torch.unsqueeze(img_left,0)\n",
    "\n",
    "\n",
    "        img_right=image_transform(all_images[img_num][1].convert('RGB'))\n",
    "        img_right=img_right.to(device)\n",
    "        img_right=torch.unsqueeze(img_right,0)\n",
    "\n",
    "\n",
    "\n",
    "        img_left_onlyrf=image_transform(all_images[img_num][2].convert('RGB'))\n",
    "        img_left_onlyrf=img_left_onlyrf.to(device)\n",
    "        img_left_onlyrf=torch.unsqueeze(img_left_onlyrf,0)\n",
    "\n",
    "\n",
    "        img_right_onlyrf=image_transform(all_images[img_num][3].convert('RGB'))\n",
    "        img_right_onlyrf=img_right_onlyrf.to(device)\n",
    "        img_right_onlyrf=torch.unsqueeze(img_right_onlyrf,0)\n",
    "\n",
    "\n",
    "\n",
    "        # torch.save(torch.cat((img_left,img_right,img_left_onlyrf,img_right_onlyrf),0),'sample_tensor_image_'+str(row_pos)+'_'+str(col_pos)+'.pt')\n",
    "        with FeatureExtractor(base_model, current_layer) as extractor:\n",
    "            features = extractor(torch.cat((img_left,img_right,img_left_onlyrf,img_right_onlyrf),0))\n",
    "            temp_output=features[current_layer]\n",
    "\n",
    "\n",
    "            output=torch.clone(temp_output.detach().cpu())\n",
    "\n",
    "            output=output[:,img_num,row_pos,col_pos]\n",
    "            print(output)\n",
    "    \n",
    "    \n",
    "    except AssertionError:\n",
    "        return None,None"
   ]
  },
  {
   "cell_type": "code",
   "execution_count": 730,
   "id": "2753a381-b707-4350-a5fd-636078428051",
   "metadata": {},
   "outputs": [
    {
     "name": "stderr",
     "output_type": "stream",
     "text": [
      "/opt/conda/lib/python3.7/site-packages/ipykernel_launcher.py:115: FutureWarning: The input object of type 'Image' is an array-like implementing one of the corresponding protocols (`__array__`, `__array_interface__` or `__array_struct__`); but not a sequence (or 0-D). In the future, this object will be coerced as if it was first converted using `np.array(obj)`. To retain the old behaviour, you have to either modify the type 'Image', or assign to an empty array created with `np.empty(correct_shape, dtype=object)`.\n",
      "/opt/conda/lib/python3.7/site-packages/ipykernel_launcher.py:115: VisibleDeprecationWarning: Creating an ndarray from ragged nested sequences (which is a list-or-tuple of lists-or-tuples-or ndarrays with different lengths or shapes) is deprecated. If you meant to do this, you must specify 'dtype=object' when creating the ndarray.\n"
     ]
    }
   ],
   "source": [
    "probe_pos=[]\n",
    "probe_output=[]\n",
    "for row_pos in range(20,40):\n",
    "    for col_pos in range(20,40):\n",
    "        all_outputs,map_pos=analyse_position(row_pos,col_pos)\n",
    "        if(all_outputs!=None):\n",
    "            probe_output.append(all_outputs)\n",
    "            probe_pos.append(map_pos)"
   ]
  },
  {
   "cell_type": "code",
   "execution_count": 731,
   "id": "b647589b-185d-4180-98b5-78d8a1466c49",
   "metadata": {},
   "outputs": [],
   "source": [
    "probe_pos=np.array(probe_pos)\n",
    "probe_output=torch.stack(probe_output)"
   ]
  },
  {
   "cell_type": "code",
   "execution_count": 732,
   "id": "641a959e-7ad4-49c5-bf1d-4b775b64de4b",
   "metadata": {},
   "outputs": [
    {
     "data": {
      "text/plain": [
       "(400, 2)"
      ]
     },
     "execution_count": 732,
     "metadata": {},
     "output_type": "execute_result"
    }
   ],
   "source": [
    "probe_pos.shape"
   ]
  },
  {
   "cell_type": "code",
   "execution_count": 733,
   "id": "7b4d7561-369e-4d18-89a2-a4b144fcb207",
   "metadata": {},
   "outputs": [
    {
     "data": {
      "text/plain": [
       "torch.Size([400, 192, 4])"
      ]
     },
     "execution_count": 733,
     "metadata": {},
     "output_type": "execute_result"
    }
   ],
   "source": [
    "probe_output.shape"
   ]
  },
  {
   "cell_type": "code",
   "execution_count": 734,
   "id": "aa3fac43-bc9c-4dc7-b6b1-f5fd48589815",
   "metadata": {},
   "outputs": [],
   "source": [
    "probe_diff=probe_output[:,:,1] - probe_output[:,:,3]"
   ]
  },
  {
   "cell_type": "code",
   "execution_count": 537,
   "id": "7cf3b922-6905-4144-87a3-d98507ddbe45",
   "metadata": {},
   "outputs": [
    {
     "data": {
      "text/plain": [
       "tensor(0.)"
      ]
     },
     "execution_count": 537,
     "metadata": {},
     "output_type": "execute_result"
    }
   ],
   "source": [
    "torch.sum(probe_diff)"
   ]
  },
  {
   "cell_type": "code",
   "execution_count": 529,
   "id": "7a145b84-89fe-44c6-bfba-1b554411d053",
   "metadata": {},
   "outputs": [
    {
     "name": "stdout",
     "output_type": "stream",
     "text": [
      "tensor([[  0,   0],\n",
      "        [  0,   1],\n",
      "        [  0,   2],\n",
      "        ...,\n",
      "        [399, 189],\n",
      "        [399, 190],\n",
      "        [399, 191]])\n"
     ]
    }
   ],
   "source": [
    "print((probe_diff==torch.max(probe_diff)).nonzero())"
   ]
  },
  {
   "cell_type": "code",
   "execution_count": 530,
   "id": "121fd137-64a1-4ec6-9372-73e4d3cd6ae6",
   "metadata": {},
   "outputs": [
    {
     "data": {
      "text/plain": [
       "tensor(0.)"
      ]
     },
     "execution_count": 530,
     "metadata": {},
     "output_type": "execute_result"
    }
   ],
   "source": [
    "torch.sum(probe_diff != 0) / float(len(probe_diff.view(-1,)))"
   ]
  },
  {
   "cell_type": "code",
   "execution_count": null,
   "id": "10beb945-26aa-46a6-8788-63130b89be37",
   "metadata": {},
   "outputs": [],
   "source": []
  },
  {
   "cell_type": "code",
   "execution_count": null,
   "id": "6e93ea25-c089-4f91-a6f9-7c8b243ad724",
   "metadata": {},
   "outputs": [],
   "source": []
  },
  {
   "cell_type": "code",
   "execution_count": 546,
   "id": "ffb05bd1-fbe7-4ca2-8c5f-5d7b5154005d",
   "metadata": {},
   "outputs": [
    {
     "data": {
      "text/plain": [
       "torch.Size([4, 3, 512, 512])"
      ]
     },
     "execution_count": 546,
     "metadata": {},
     "output_type": "execute_result"
    }
   ],
   "source": [
    "torch.load('sample_tensor_image.pt').shape"
   ]
  },
  {
   "cell_type": "code",
   "execution_count": null,
   "id": "3542b87c-8812-4096-95c6-393ef4936fc9",
   "metadata": {},
   "outputs": [],
   "source": []
  },
  {
   "cell_type": "code",
   "execution_count": null,
   "id": "8e648b35-bc3a-44a0-a58a-dec7fa669255",
   "metadata": {},
   "outputs": [],
   "source": []
  },
  {
   "cell_type": "code",
   "execution_count": null,
   "id": "63894222-17e8-4c97-b845-77d4dba0709c",
   "metadata": {},
   "outputs": [],
   "source": []
  },
  {
   "cell_type": "markdown",
   "id": "6c8ddbce-e560-4ba5-a326-51873ac00d57",
   "metadata": {},
   "source": [
    "# Record Activations"
   ]
  },
  {
   "cell_type": "code",
   "execution_count": 239,
   "id": "c7721908-c07f-4f4c-a576-b88594b055aa",
   "metadata": {},
   "outputs": [],
   "source": [
    "all_outputs=[]\n",
    "all_orientation=[]\n",
    "all_freq=[]\n",
    "all_phase=[]\n",
    "\n"
   ]
  },
  {
   "cell_type": "code",
   "execution_count": 240,
   "id": "f92ec42e-fb21-4779-8cef-4da79024c0c4",
   "metadata": {},
   "outputs": [],
   "source": [
    "output_template=None\n",
    "img, orientation,freq,phase=next(iter(dataloader_without_norm))\n",
    "\n",
    "with FeatureExtractor(base_model, current_layer) as extractor:\n",
    "    img=img.to(device)\n",
    "    features = extractor(img)\n",
    "    output_template=features[current_layer]\n",
    "\n",
    "w=output_template.shape[2]//2\n",
    "h=output_template.shape[3]//2"
   ]
  },
  {
   "cell_type": "code",
   "execution_count": null,
   "id": "afa80c20-e26b-4e39-8433-cb1d6e0ee8ee",
   "metadata": {},
   "outputs": [],
   "source": []
  },
  {
   "cell_type": "code",
   "execution_count": null,
   "id": "b862fc0e-98b1-44d1-b514-a74be7d2f507",
   "metadata": {},
   "outputs": [],
   "source": [
    "with FeatureExtractor(loaded_spliced_model, layer_name) as extractor:\n",
    "\n",
    "        features = extractor(all_images)\n",
    "        temp_output=features[layer_name]\n",
    "        if(len(temp_output.shape)!=2):\n",
    "            temp_output=temp_output.view((temp_output.shape[0],-1))\n",
    "        output=temp_output.numpy()"
   ]
  },
  {
   "cell_type": "code",
   "execution_count": null,
   "id": "139084cf-b5a5-40a1-ada9-9eda434df398",
   "metadata": {},
   "outputs": [],
   "source": []
  },
  {
   "cell_type": "code",
   "execution_count": null,
   "id": "5c764079-6cb9-4e01-b375-1975cd834ace",
   "metadata": {},
   "outputs": [],
   "source": []
  },
  {
   "cell_type": "code",
   "execution_count": null,
   "id": "413b3944-0356-4190-b4cb-294b548c1201",
   "metadata": {},
   "outputs": [],
   "source": []
  },
  {
   "cell_type": "code",
   "execution_count": null,
   "id": "4c7169f4-367d-4206-bef6-f94269d061aa",
   "metadata": {},
   "outputs": [],
   "source": []
  },
  {
   "cell_type": "code",
   "execution_count": null,
   "id": "08a0430f-2764-419e-9303-d5be25cd7dbe",
   "metadata": {},
   "outputs": [],
   "source": []
  },
  {
   "cell_type": "markdown",
   "id": "52a09db6-78f7-425c-97f1-bab90111234c",
   "metadata": {},
   "source": [
    "# Build model and set layer to read out from"
   ]
  },
  {
   "cell_type": "code",
   "execution_count": null,
   "id": "60f9c479-3ee6-4b9a-a2c2-a814ec8d6632",
   "metadata": {},
   "outputs": [],
   "source": [
    "base_model=pretrained_models.alexnet(pretrained=True)\n",
    "base_model.eval()\n",
    "\n",
    "base_model=base_model.to(device)"
   ]
  },
  {
   "cell_type": "code",
   "execution_count": null,
   "id": "4a107e59-c508-478a-a05c-46741e2db0d4",
   "metadata": {},
   "outputs": [],
   "source": [
    "#calculate analytical receptive field generative params for full model\n",
    "all_recep_field_params = receptive_field(base_model.features, (3,224,224))   #takes model (features, cant handle linear modules) and input image size"
   ]
  },
  {
   "cell_type": "code",
   "execution_count": null,
   "id": "e4b7d4d9-4c2f-4bcf-8d59-91cbfb98b9f0",
   "metadata": {},
   "outputs": [],
   "source": [
    "position = [3,2]\n",
    "layer = 'features.0'\n",
    "unit = 53\n",
    "\n",
    "#get receptive field for unit at position (6,6) (H,W) in the activation map of our target neuron. \n",
    "#In this layer the activation map is 13x13, so position (6,6) is in the middle, although this doesnt matter,\n",
    "#as long as the receptive field is not near the edge and getting cut off.\n",
    "#This returns the 'bounds' in pixel space of the receptive field in the form [(H_top,H_bottom),(W_left,W_right)]\n",
    "recep_field = receptive_field_for_unit(all_recep_field_params, layer, position)\n",
    "\n",
    "print('\\n')\n",
    "print(layer)\n",
    "print(recep_field)"
   ]
  },
  {
   "cell_type": "code",
   "execution_count": null,
   "id": "6176aee3-161b-484b-8f88-42aadcb67c83",
   "metadata": {},
   "outputs": [],
   "source": []
  }
 ],
 "metadata": {
  "kernelspec": {
   "display_name": "Python 3 (ipykernel)",
   "language": "python",
   "name": "python3"
  },
  "language_info": {
   "codemirror_mode": {
    "name": "ipython",
    "version": 3
   },
   "file_extension": ".py",
   "mimetype": "text/x-python",
   "name": "python",
   "nbconvert_exporter": "python",
   "pygments_lexer": "ipython3",
   "version": "3.7.13"
  }
 },
 "nbformat": 4,
 "nbformat_minor": 5
}
